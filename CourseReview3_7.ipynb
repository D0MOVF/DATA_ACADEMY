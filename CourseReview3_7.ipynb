{
  "nbformat": 4,
  "nbformat_minor": 0,
  "metadata": {
    "colab": {
      "name": "CourseReview3/7.ipynb",
      "provenance": [],
      "authorship_tag": "ABX9TyOKK2JuYalCU/8LDrcbGp1E",
      "include_colab_link": true
    },
    "kernelspec": {
      "name": "python3",
      "display_name": "Python 3"
    },
    "language_info": {
      "name": "python"
    }
  },
  "cells": [
    {
      "cell_type": "markdown",
      "metadata": {
        "id": "view-in-github",
        "colab_type": "text"
      },
      "source": [
        "<a href=\"https://colab.research.google.com/github/D0MOVF/DATA_ACADEMY/blob/main/CourseReview3_7.ipynb\" target=\"_parent\"><img src=\"https://colab.research.google.com/assets/colab-badge.svg\" alt=\"Open In Colab\"/></a>"
      ]
    },
    {
      "cell_type": "code",
      "execution_count": null,
      "metadata": {
        "colab": {
          "base_uri": "https://localhost:8080/"
        },
        "id": "ZgSWKPfYflL3",
        "outputId": "2b13cec9-a602-4c5c-a135-b9d7a2e0ea61"
      },
      "outputs": [
        {
          "output_type": "execute_result",
          "data": {
            "text/plain": [
              "125"
            ]
          },
          "metadata": {},
          "execution_count": 4
        }
      ],
      "source": [
        "# review of materials 1 - 3\n",
        "7+3\n",
        "5*5\n",
        "5**3"
      ]
    },
    {
      "cell_type": "code",
      "source": [
        "21%5\n",
        "\n",
        "VAR=56\n",
        "print(VAR ,\"11\")\n",
        "\n",
        "VAR != 56\n",
        "\n",
        "VAR1 = 10\n",
        "VAR2 = 11\n",
        "print(VAR1 == VAR2)\n",
        "print(VAR1 != VAR2)\n",
        "\n",
        "Cities = [\"Berlin\",\"London\",\"Paris\", 55, 44, 12]\n",
        "print(Cities)\n",
        "\n",
        "type(Cities[3])\n",
        "Cities.append(\"Moscow\")\n",
        "Cities.append(\"Zurich\")\n",
        "print(Cities)\n",
        "Cities[3] = 22\n",
        "print(Cities)\n",
        "Cities.remove(12)\n",
        "print(Cities)\n",
        "Cities.insert(5, 32)\n",
        "print(Cities)\n",
        "type(Cities[6])\n",
        "\n",
        "Animals = [\"Bear\",\"Shark\",\"Canine\"]\n",
        "print(Animals)\n",
        "\n",
        "CitiesXAnimals = Cities + Animals\n",
        "print(CitiesXAnimals)\n",
        "\n",
        "Simple = -11\n",
        "\n",
        "if Simple > 0:\n",
        "    print('Positive')\n",
        "\n",
        "elif Simple is 0:\n",
        "      print('Null')\n",
        "\n",
        "elif -10 <= Simple < 0 :\n",
        "      print('Negative')\n",
        "\n",
        "elif Simple < -10:\n",
        "      print('Negative and small')\n",
        "\n",
        "Simple != -11\n",
        "\n",
        "\n",
        "#for element in CitiesXAnimals:\n",
        "  #print(element)\n",
        "\n",
        "SUBList = [['a','b','c'],['x','y','z']]\n",
        "print(SUBList)\n",
        "\n",
        "for i in SUBList:\n",
        "  print('Display:', i)\n",
        "\n",
        "\n",
        "\n",
        "def SimpleAdder(a , b):\n",
        "\n",
        "  '''\n",
        "  function to add two numbers together\n",
        "  '''\n",
        "\n",
        "  Result = a + b\n",
        "\n",
        "  return Result\n",
        "\n",
        "SimpleAdder(1,5)\n",
        "print(SimpleAdder(1,5))\n",
        "\n",
        "\n",
        "def SimpleVolume(l,w,h):\n",
        "\n",
        "  '''\n",
        "  function for calculating volume\n",
        "  '''\n",
        "\n",
        "  Volume = l * w * h\n",
        "  return Volume\n",
        "\n",
        "SimpleVolume(10,10,5)\n",
        "\n"
      ],
      "metadata": {
        "colab": {
          "base_uri": "https://localhost:8080/"
        },
        "id": "xfduJGiUf5Sd",
        "outputId": "2ef18ace-6474-4311-f80e-fafc5fe47a1e"
      },
      "execution_count": null,
      "outputs": [
        {
          "output_type": "stream",
          "name": "stdout",
          "text": [
            "56 11\n",
            "False\n",
            "True\n",
            "['Berlin', 'London', 'Paris', 55, 44, 12]\n",
            "['Berlin', 'London', 'Paris', 55, 44, 12, 'Moscow', 'Zurich']\n",
            "['Berlin', 'London', 'Paris', 22, 44, 12, 'Moscow', 'Zurich']\n",
            "['Berlin', 'London', 'Paris', 22, 44, 'Moscow', 'Zurich']\n",
            "['Berlin', 'London', 'Paris', 22, 44, 32, 'Moscow', 'Zurich']\n",
            "['Bear', 'Shark', 'Canine']\n",
            "['Berlin', 'London', 'Paris', 22, 44, 32, 'Moscow', 'Zurich', 'Bear', 'Shark', 'Canine']\n",
            "Negative and small\n",
            "[['a', 'b', 'c'], ['x', 'y', 'z']]\n",
            "Display: ['a', 'b', 'c']\n",
            "Display: ['x', 'y', 'z']\n",
            "6\n"
          ]
        },
        {
          "output_type": "execute_result",
          "data": {
            "text/plain": [
              "500"
            ]
          },
          "metadata": {},
          "execution_count": 72
        }
      ]
    },
    {
      "cell_type": "code",
      "source": [
        "def SimpleVolume(l,w,h):\n",
        "\n",
        "  '''\n",
        "  function for calculating volume\n",
        "  '''\n",
        "\n",
        "  Volume = l * w * h\n",
        "  return Volume\n",
        "\n",
        "SimpleVolume(10,10,5)\n",
        "print(SimpleVolume(10,10,5))\n",
        "VolVar=SimpleVolume(10,10,5)\n",
        "print(VolVar)\n",
        "\n",
        "last_list = [0, 1, 2, 3, 4, 5, 888, 6, 7, 888, 8, 888, 9]\n",
        "\n",
        "last_list_clean = last_list\n",
        "Removed=888\n",
        "\n",
        "#for Removed in last_list:\n",
        " # last_list_clean.remove(888)\n",
        " # print(last_list_clean)\n",
        "\n",
        "last_list_clean = [value for value in last_list if value != Removed]\n",
        "print(last_list_clean)\n",
        "\n",
        "\n"
      ],
      "metadata": {
        "colab": {
          "base_uri": "https://localhost:8080/"
        },
        "id": "u5c4p9QFkq0m",
        "outputId": "beff41fb-3ef0-447c-c3c4-08cf78d6401a"
      },
      "execution_count": null,
      "outputs": [
        {
          "output_type": "stream",
          "name": "stdout",
          "text": [
            "500\n",
            "500\n",
            "[0, 1, 2, 3, 4, 5, 6, 7, 8, 9]\n"
          ]
        }
      ]
    },
    {
      "cell_type": "code",
      "source": [
        "!pip install -q kaggle\n",
        "from google.colab import files\n",
        "files.upload()\n",
        "#create a kaggle folder\n",
        "!mkdir ~/.kaggle\n",
        "# Go on kaggle > Account > Create New API token\n",
        "# Save the json file in your laptop in a dedicated folder\n",
        "# copy the kaggle.json to folder created\n",
        "!cp kaggle.json ~/.kaggle\n",
        "#permission for the json to act\n",
        "!chmod 600 ~/.kaggle/kaggle.json\n",
        "# Datasets available here: \n",
        "# https://www.kaggle.com/avikpaul4u/vehicle-loan-default-prediction\n",
        "!kaggle datasets download -d avikpaul4u/vehicle-loan-default-prediction\n",
        "!unzip vehicle-loan-default-prediction.zip\n",
        "# https://www.kaggle.com/uciml/red-wine-quality-cortez-et-al-2009\n",
        "!kaggle datasets download -d uciml/red-wine-quality-cortez-et-al-2009\n",
        "!unzip red-wine-quality-cortez-et-al-2009.zip\n",
        "\n",
        "!kaggle datasets download -d artemkorottchenko/large-boatyacht-pricing-dataset\n",
        "!unzip large-boatyacht-pricing-dataset.zip"
      ],
      "metadata": {
        "colab": {
          "resources": {
            "http://localhost:8080/nbextensions/google.colab/files.js": {
              "data": "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",
              "ok": true,
              "headers": [
                [
                  "content-type",
                  "application/javascript"
                ]
              ],
              "status": 200,
              "status_text": ""
            }
          },
          "base_uri": "https://localhost:8080/",
          "height": 384
        },
        "id": "1ghnqiC4mByQ",
        "outputId": "55ee9545-9a48-4404-fde5-73799853b421"
      },
      "execution_count": 3,
      "outputs": [
        {
          "output_type": "display_data",
          "data": {
            "text/plain": [
              "<IPython.core.display.HTML object>"
            ],
            "text/html": [
              "\n",
              "     <input type=\"file\" id=\"files-7ee56f7f-e5a2-4b6b-aa05-823a2113ce24\" name=\"files[]\" multiple disabled\n",
              "        style=\"border:none\" />\n",
              "     <output id=\"result-7ee56f7f-e5a2-4b6b-aa05-823a2113ce24\">\n",
              "      Upload widget is only available when the cell has been executed in the\n",
              "      current browser session. Please rerun this cell to enable.\n",
              "      </output>\n",
              "      <script src=\"/nbextensions/google.colab/files.js\"></script> "
            ]
          },
          "metadata": {}
        },
        {
          "output_type": "stream",
          "name": "stdout",
          "text": [
            "Saving kaggle.json to kaggle.json\n",
            "Downloading vehicle-loan-default-prediction.zip to /content\n",
            " 43% 5.00M/11.6M [00:00<00:00, 12.2MB/s]\n",
            "100% 11.6M/11.6M [00:00<00:00, 26.3MB/s]\n",
            "Archive:  vehicle-loan-default-prediction.zip\n",
            "  inflating: Data Dictionary.xlsx    \n",
            "  inflating: test.csv                \n",
            "  inflating: train.csv               \n",
            "Downloading red-wine-quality-cortez-et-al-2009.zip to /content\n",
            "  0% 0.00/25.6k [00:00<?, ?B/s]\n",
            "100% 25.6k/25.6k [00:00<00:00, 16.0MB/s]\n",
            "Archive:  red-wine-quality-cortez-et-al-2009.zip\n",
            "  inflating: winequality-red.csv     \n",
            "Downloading large-boatyacht-pricing-dataset.zip to /content\n",
            " 80% 5.00M/6.22M [00:00<00:00, 15.0MB/s]\n",
            "100% 6.22M/6.22M [00:00<00:00, 18.4MB/s]\n",
            "Archive:  large-boatyacht-pricing-dataset.zip\n",
            "  inflating: boat_dataset.csv        \n"
          ]
        }
      ]
    },
    {
      "cell_type": "code",
      "source": [
        "import pandas as pd # package import - library to manipulate databases\n",
        "import io\n",
        "import numpy as np # package import - library to manipulate numbers written in C\n",
        "pd.options.display.max_columns = 100\n",
        "pd.options.display.max_rows = 50\n",
        "\n",
        "df = pd.read_csv(io.StringIO(open('/content/boat_dataset.csv', 'rb').read().decode('utf-8', errors='ignore')), sep=\",\")\n",
        "\n",
        "## Add element in the database for EDUCATIONAL PURPOSE ONLY\n",
        "# Add random date in order to do a proper temporal split\n",
        "df['Advertisement Date'] = pd.to_datetime(df['Advertisement Date'], format='%d.%m.%Y')\n",
        "#Here is a function that will automatically create a feature of random dates between a defined interval\n",
        "def random_datetimes_or_dates(start, end, out_format='datetime', n=10): \n",
        "\n",
        "    '''   \n",
        "    unix timestamp is in ns by default. \n",
        "    I divide the unix time value by 10**9 to make it seconds \n",
        "    (or 24*60*60*10**9 to make it days).\n",
        "    The corresponding unit variable is passed to \n",
        "    the pd.to_datetime function. \n",
        "    Values for the (divide_by, unit) pair to select is defined by \n",
        "    the out_format parameter.\n",
        "    for 1 -> out_format='datetime'\n",
        "    for 2 -> out_format=anything else\n",
        "    '''\n",
        "    (divide_by, unit) = (10**9, 's') if out_format=='datetime' else (24*60*60*10**9, 'D')\n",
        "\n",
        "    start_u = start.value//divide_by\n",
        "    end_u = end.value//divide_by\n",
        "\n",
        "    return pd.to_datetime(np.random.randint(start_u, end_u, n), unit=unit)\n",
        "\n",
        "\n",
        "np.random.seed(893717398)\n",
        "# Set parameters\n",
        "d_start = pd.to_datetime('2020-01-01')\n",
        "d_end = pd.to_datetime('2021-12-31')\n",
        "\n",
        "# Delete initial Advertisement Date -> if you want to keep the inital dates, don't run it\n",
        "df.drop(columns=['Advertisement Date'], inplace=True)\n",
        "\n",
        "# Run function\n",
        "df['Advertisement Date'] = random_datetimes_or_dates(d_start, d_end, out_format='datetime', n=len(df))\n",
        "\n",
        "# Keep the date and remove the time\n",
        "df['Advertisement Date']= df['Advertisement Date'].dt.date\n",
        "\n",
        "# Parse the date\n",
        "df['Advertisement Date'] = pd.to_datetime(df['Advertisement Date'], format='%Y-%m-%d')\n",
        "\n",
        "# Impute Advertissement Date by the the created one when they are missing\n",
        "#df['Advertisement Date'] = np.where(df['Advertisement Date'].isna(), df['date2'], df['Advertisement Date'])\n",
        "\n",
        "# Delete the random date created\n",
        "#df.drop(columns=['date2'], inplace=True)\n",
        "\n",
        "# Create duplicates\n",
        "temp = df.sample(n=500, random_state=893717398)\n",
        "df = df.append(temp)\n",
        "del(temp)\n",
        "df.reset_index(drop=True, inplace=True)\n",
        "\n",
        "df['Advertisement Date'] = df['Advertisement Date'].astype(str)"
      ],
      "metadata": {
        "id": "d7nD1EHdl4MX"
      },
      "execution_count": 115,
      "outputs": []
    },
    {
      "cell_type": "code",
      "source": [
        "\n",
        "\n",
        "df[['Year Built','Model']].head(11)\n",
        "df[['Manufacturer','Boat name','Category','Displacement']].head(11)\n",
        "#'df.info()\n",
        "\n",
        "\n",
        "Disp = df['Year Built'] > 1000\n",
        "Disp.dtypes\n",
        "\n",
        "df[Disp].head(11)\n",
        "df[Disp].max()\n",
        "\n",
        "df[df['Year Built'] > 2005].head(11)\n",
        "\n",
        "\n",
        "\n",
        "df[df['Number of Cabins']>5].head(11)\n",
        "df[df['Number of Cabins']>5].max()\n",
        "\n",
        "\n",
        "df[df['Cert Number of People']>10].head(11)\n",
        "df[df['Cert Number of People']>10].max()\n",
        "\n",
        "\n",
        "# between function parameters\n",
        "\n",
        "df[df['Year Built'].between(1995,2010, inclusive=\"both\")].head()\n",
        "df[df['Year Built'].between(1995,2010, inclusive=\"right\")].max()\n",
        "df[df['Year Built'].between(1995,2010, inclusive=\"left\")].max()\n",
        "df[df['Year Built'].between(1995,2010, inclusive=True)].min()\n",
        "df[df['Year Built'].between(1995,2010, inclusive=False)].head(11)\n",
        "\n",
        "# display N columns of my choice after between condition\n",
        "\n",
        "df[df['Year Built'].between(1995,2010, inclusive=\"right\")][['Cert Number of People','Number of Cabins','Number of beds']].head(5)\n",
        "\n",
        "\n",
        "df[(df['Year Built']>2010) | (df['Year Built']<1990)].head(11)\n",
        "df.describe()\n",
        "\n",
        "df[(df['Cert Number of People'] > 10) & (df['Year Built'] < 1999)].head(11)\n",
        "\n",
        "\n",
        "mask4 = ((df['Year Built'] <= 2001) | (df['Year Built'] >= 2011)) & ((df['Number of Cabins'] <= 2) | (df['Number of Cabins'].isna()))\n",
        "df[mask4].head()\n",
        "df[mask4].describe()\n",
        "\n",
        "mask5 = ((df['Year Built'] <= 2001) | (df['Year Built'] >= 2011)) & (df['Number of Cabins'] <= 2) & (df['Fuel Type'] == 'Diesel')\n",
        "df[mask5].head()\n",
        "df[mask5].describe(include='all')\n",
        "\n",
        "\n",
        "list_cat_to_keep=['Diesel','Electric']\n",
        "mask5 = ((df['Year Built'] <= 2001) | (df['Year Built'] >= 2011)) & (df['Number of Cabins'] <= 2) & (df['Fuel Type'].isin(list_cat_to_keep))\n",
        "\n",
        "# same as .isin([['Diesel','Electric']])\n",
        "mask5 = ((df['Year Built'] <= 2001) | (df['Year Built'] >= 2011)) & (df['Number of Cabins'] <= 2) & (df['Fuel Type'].isin([['Diesel','Electric']]))\n",
        "df[mask5].head(2)\n",
        "\n",
        "df[mask5]['Fuel Type'].unique()\n",
        "\n",
        "\n",
        "list_cat_NOT_to_keep=['Diesel','Electric']\n",
        "mask6 = ((df['Year Built'] <= 2001) | (df['Year Built'] >= 2011)) & (df['Number of Cabins'] <= 2) & (~df['Fuel Type'].isin(list_cat_NOT_to_keep))\n",
        "\n",
        "# same as ~df['Fuel Type'].isin([['Diesel','Electric']])\n",
        "mask6 = ((df['Year Built'] <= 2001) | (df['Year Built'] >= 2011)) & (df['Number of Cabins'] <= 2) & (~df['Fuel Type'].isin([['Diesel','Electric']]))\n",
        "\n",
        "df[mask6].head(2)\n",
        "df[mask6]['Fuel Type'].unique() # shows unique entries\n",
        "\n",
        "#df.info()"
      ],
      "metadata": {
        "colab": {
          "base_uri": "https://localhost:8080/"
        },
        "id": "zoJsrm7VmZrr",
        "outputId": "618f3b61-8bef-4913-849a-56acf4cf6da2"
      },
      "execution_count": 24,
      "outputs": [
        {
          "output_type": "stream",
          "name": "stderr",
          "text": [
            "/usr/local/lib/python3.7/dist-packages/ipykernel_launcher.py:12: FutureWarning: Dropping of nuisance columns in DataFrame reductions (with 'numeric_only=None') is deprecated; in a future version this will raise TypeError.  Select only valid columns before calling the reduction.\n",
            "  if sys.path[0] == '':\n",
            "/usr/local/lib/python3.7/dist-packages/ipykernel_launcher.py:19: FutureWarning: Dropping of nuisance columns in DataFrame reductions (with 'numeric_only=None') is deprecated; in a future version this will raise TypeError.  Select only valid columns before calling the reduction.\n",
            "/usr/local/lib/python3.7/dist-packages/ipykernel_launcher.py:23: FutureWarning: Dropping of nuisance columns in DataFrame reductions (with 'numeric_only=None') is deprecated; in a future version this will raise TypeError.  Select only valid columns before calling the reduction.\n",
            "/usr/local/lib/python3.7/dist-packages/ipykernel_launcher.py:29: FutureWarning: Dropping of nuisance columns in DataFrame reductions (with 'numeric_only=None') is deprecated; in a future version this will raise TypeError.  Select only valid columns before calling the reduction.\n",
            "/usr/local/lib/python3.7/dist-packages/ipykernel_launcher.py:30: FutureWarning: Dropping of nuisance columns in DataFrame reductions (with 'numeric_only=None') is deprecated; in a future version this will raise TypeError.  Select only valid columns before calling the reduction.\n",
            "/usr/local/lib/python3.7/dist-packages/ipykernel_launcher.py:31: FutureWarning: Boolean inputs to the `inclusive` argument are deprecated infavour of `both` or `neither`.\n",
            "/usr/local/lib/python3.7/dist-packages/ipykernel_launcher.py:31: FutureWarning: Dropping of nuisance columns in DataFrame reductions (with 'numeric_only=None') is deprecated; in a future version this will raise TypeError.  Select only valid columns before calling the reduction.\n",
            "/usr/local/lib/python3.7/dist-packages/ipykernel_launcher.py:32: FutureWarning: Boolean inputs to the `inclusive` argument are deprecated infavour of `both` or `neither`.\n"
          ]
        },
        {
          "output_type": "execute_result",
          "data": {
            "text/plain": [
              "array(['Diesel', 'Unleaded', nan, 'Electric', 'Hybrid', 'Gas'],\n",
              "      dtype=object)"
            ]
          },
          "metadata": {},
          "execution_count": 24
        }
      ]
    },
    {
      "cell_type": "code",
      "source": [
        "df['Fuel Type'].value_counts()\n",
        "df['Fuel Type'].value_counts(dropna=False)\n",
        "df['Fuel Type'].value_counts(dropna=True)\n",
        "\n",
        "df['Fuel Type'].value_counts(normalize=True, dropna=False)\n",
        "df['Fuel Type'].value_counts(normalize=True, dropna=False)*100\n",
        "\n",
        "np.round(df['Fuel Type'].value_counts(normalize=True, dropna=False), decimals=2)\n",
        "np.round(df['Fuel Type'].value_counts(normalize=True, dropna=False)*100, decimals=2)\n",
        "\n",
        "\n",
        "df[['Advertisement Date','Year Built','Cert Number of People']].head(11)\n",
        "df['Advertisement Date'] = pd.to_datetime(df['Advertisement Date'], format='%Y-%m-%d')\n",
        "\n",
        "df[['Advertisement Date','Year Built','Cert Number of People']].head(11)\n",
        "df.info()"
      ],
      "metadata": {
        "id": "ENLavmhwwydN",
        "outputId": "7069c2aa-f459-44d0-9706-909e2d442edb",
        "colab": {
          "base_uri": "https://localhost:8080/"
        }
      },
      "execution_count": 43,
      "outputs": [
        {
          "output_type": "stream",
          "name": "stdout",
          "text": [
            "<class 'pandas.core.frame.DataFrame'>\n",
            "RangeIndex: 10844 entries, 0 to 10843\n",
            "Data columns (total 38 columns):\n",
            " #   Column                       Non-Null Count  Dtype         \n",
            "---  ------                       --------------  -----         \n",
            " 0   Price                        10844 non-null  object        \n",
            " 1   Category                     10844 non-null  object        \n",
            " 2   Boat Type                    10844 non-null  object        \n",
            " 3   Manufacturer                 9393 non-null   object        \n",
            " 4   Model                        10841 non-null  object        \n",
            " 5   Boat name                    1370 non-null   object        \n",
            " 6   Type                         10839 non-null  object        \n",
            " 7   Year Built                   10252 non-null  float64       \n",
            " 8   Condition                    3540 non-null   object        \n",
            " 9   Length                       10834 non-null  object        \n",
            " 10  Width                        10779 non-null  object        \n",
            " 11  Depth                        7575 non-null   object        \n",
            " 12  Displacement                 5298 non-null   object        \n",
            " 13  CE Design Category           828 non-null    object        \n",
            " 14  Cert Number of People        3773 non-null   float64       \n",
            " 15  Number of Cabins             6807 non-null   float64       \n",
            " 16  Number of beds               6726 non-null   float64       \n",
            " 17  Hull Color                   3472 non-null   object        \n",
            " 18  Number of Toilets            2257 non-null   float64       \n",
            " 19  Number of Bathrooms          484 non-null    float64       \n",
            " 20  Number of Showers            2040 non-null   float64       \n",
            " 21  Material                     8902 non-null   object        \n",
            " 22  Fresh Water Cap              2222 non-null   object        \n",
            " 23  Holding Tank                 861 non-null    object        \n",
            " 24  Propulsion                   3433 non-null   object        \n",
            " 25  Engine                       10007 non-null  object        \n",
            " 26  Engine Performance           8455 non-null   object        \n",
            " 27  Fuel Capacity                7137 non-null   object        \n",
            " 28  Fuel Type                    8409 non-null   object        \n",
            " 29  Engine Hours                 5396 non-null   object        \n",
            " 30  Max Speed                    930 non-null    object        \n",
            " 31  Cruising Speed               567 non-null    object        \n",
            " 32  Location                     10800 non-null  object        \n",
            " 33  Number of views last 7 days  10457 non-null  object        \n",
            " 34  Comments                     7437 non-null   object        \n",
            " 35  Additional Comments          2553 non-null   object        \n",
            " 36  Equipment                    6481 non-null   object        \n",
            " 37  Advertisement Date           10844 non-null  datetime64[ns]\n",
            "dtypes: datetime64[ns](1), float64(7), object(30)\n",
            "memory usage: 3.1+ MB\n"
          ]
        }
      ]
    },
    {
      "cell_type": "code",
      "source": [
        "df['Length'].unique()\n",
        "df['Length'].value_counts(dropna=False)\n",
        "df['Length_Clean'] = df['Length'].str.rstrip(' m')\n",
        "#df.info()\n",
        "df['Length_Clean'].head(11)\n",
        "df.head(11)\n",
        "\n",
        "df['Width_Clean'] = df['Width'].str.rstrip(' m')\n",
        "np.round(df['Year Built'],decimals=0)\n",
        "df['Depth_Clean'] = df['Depth'].str.rstrip(' m')\n",
        "df['Displacement_Clean'] = df['Displacement'].str.rstrip(' kg') \n",
        "df.head(11)\n",
        "\n",
        "df['Length_Clean'] = pd.to_numeric(df['Length_Clean'])\n",
        "df['Width_Clean'] = pd.to_numeric(df['Width_Clean'])\n",
        "df['Depth_Clean'] = pd.to_numeric(df['Depth_Clean'])\n",
        "# df['Displacement_Clean'] = pd.to_numeric(df['Displacement_Clean'])\n",
        "df.dtypes"
      ],
      "metadata": {
        "id": "KW-Czp8KykLe",
        "outputId": "092562cd-1969-45e0-cba5-05f6574bd01e",
        "colab": {
          "base_uri": "https://localhost:8080/"
        }
      },
      "execution_count": 60,
      "outputs": [
        {
          "output_type": "execute_result",
          "data": {
            "text/plain": [
              "Price                                  object\n",
              "Category                               object\n",
              "Boat Type                              object\n",
              "Manufacturer                           object\n",
              "Model                                  object\n",
              "Boat name                              object\n",
              "Type                                   object\n",
              "Year Built                            float64\n",
              "Condition                              object\n",
              "Length                                 object\n",
              "Width                                  object\n",
              "Depth                                  object\n",
              "Displacement                           object\n",
              "CE Design Category                     object\n",
              "Cert Number of People                 float64\n",
              "Number of Cabins                      float64\n",
              "Number of beds                        float64\n",
              "Hull Color                             object\n",
              "Number of Toilets                     float64\n",
              "Number of Bathrooms                   float64\n",
              "Number of Showers                     float64\n",
              "Material                               object\n",
              "Fresh Water Cap                        object\n",
              "Holding Tank                           object\n",
              "Propulsion                             object\n",
              "Engine                                 object\n",
              "Engine Performance                     object\n",
              "Fuel Capacity                          object\n",
              "Fuel Type                              object\n",
              "Engine Hours                           object\n",
              "Max Speed                              object\n",
              "Cruising Speed                         object\n",
              "Location                               object\n",
              "Number of views last 7 days            object\n",
              "Comments                               object\n",
              "Additional Comments                    object\n",
              "Equipment                              object\n",
              "Advertisement Date             datetime64[ns]\n",
              "Length_Clean                          float64\n",
              "Width_Clean                           float64\n",
              "Depth_Clean                           float64\n",
              "Displacement_Clean                     object\n",
              "dtype: object"
            ]
          },
          "metadata": {},
          "execution_count": 60
        }
      ]
    },
    {
      "cell_type": "code",
      "source": [
        "df['Length_Clean'].unique()\n",
        "df['Length_Clean'].dtypes\n",
        "df['Length_Clean'].describe()\n",
        "df['Length_Clean'].head(11)\n",
        "\n",
        "def CellCleaner(series, char):\n",
        "\n",
        "    '''\n",
        "    function that cleans recurring strings\n",
        "    '''\n",
        "\n",
        "    new_series = series.str.rstrip(' m')\n",
        "    new_series = pd.to_numeric(new_series)\n",
        "\n",
        "    return new_series\n",
        "\n",
        "df[['Width','Depth']].head(11)\n",
        "\n",
        "#for col in ['Width','Depth']:\n",
        "  #df[col] = CellCleaner(df[col], ' m')\n",
        "\n",
        "df[['Width','Depth']].head(11)"
      ],
      "metadata": {
        "id": "pX---VgB1QgL",
        "outputId": "d486784b-c41e-4e60-97d5-228605782a94",
        "colab": {
          "base_uri": "https://localhost:8080/",
          "height": 394
        }
      },
      "execution_count": 78,
      "outputs": [
        {
          "output_type": "execute_result",
          "data": {
            "text/plain": [
              "    Width  Depth\n",
              "0    1.90    NaN\n",
              "1    1.50    NaN\n",
              "2    1.42   0.25\n",
              "3    1.00    NaN\n",
              "4    2.50   0.75\n",
              "5    1.46    NaN\n",
              "6    1.56    NaN\n",
              "7    2.38   0.40\n",
              "8     NaN    NaN\n",
              "9    1.37    NaN\n",
              "10   1.73    NaN"
            ],
            "text/html": [
              "\n",
              "  <div id=\"df-65304133-b326-423b-9775-2d06054b4499\">\n",
              "    <div class=\"colab-df-container\">\n",
              "      <div>\n",
              "<style scoped>\n",
              "    .dataframe tbody tr th:only-of-type {\n",
              "        vertical-align: middle;\n",
              "    }\n",
              "\n",
              "    .dataframe tbody tr th {\n",
              "        vertical-align: top;\n",
              "    }\n",
              "\n",
              "    .dataframe thead th {\n",
              "        text-align: right;\n",
              "    }\n",
              "</style>\n",
              "<table border=\"1\" class=\"dataframe\">\n",
              "  <thead>\n",
              "    <tr style=\"text-align: right;\">\n",
              "      <th></th>\n",
              "      <th>Width</th>\n",
              "      <th>Depth</th>\n",
              "    </tr>\n",
              "  </thead>\n",
              "  <tbody>\n",
              "    <tr>\n",
              "      <th>0</th>\n",
              "      <td>1.90</td>\n",
              "      <td>NaN</td>\n",
              "    </tr>\n",
              "    <tr>\n",
              "      <th>1</th>\n",
              "      <td>1.50</td>\n",
              "      <td>NaN</td>\n",
              "    </tr>\n",
              "    <tr>\n",
              "      <th>2</th>\n",
              "      <td>1.42</td>\n",
              "      <td>0.25</td>\n",
              "    </tr>\n",
              "    <tr>\n",
              "      <th>3</th>\n",
              "      <td>1.00</td>\n",
              "      <td>NaN</td>\n",
              "    </tr>\n",
              "    <tr>\n",
              "      <th>4</th>\n",
              "      <td>2.50</td>\n",
              "      <td>0.75</td>\n",
              "    </tr>\n",
              "    <tr>\n",
              "      <th>5</th>\n",
              "      <td>1.46</td>\n",
              "      <td>NaN</td>\n",
              "    </tr>\n",
              "    <tr>\n",
              "      <th>6</th>\n",
              "      <td>1.56</td>\n",
              "      <td>NaN</td>\n",
              "    </tr>\n",
              "    <tr>\n",
              "      <th>7</th>\n",
              "      <td>2.38</td>\n",
              "      <td>0.40</td>\n",
              "    </tr>\n",
              "    <tr>\n",
              "      <th>8</th>\n",
              "      <td>NaN</td>\n",
              "      <td>NaN</td>\n",
              "    </tr>\n",
              "    <tr>\n",
              "      <th>9</th>\n",
              "      <td>1.37</td>\n",
              "      <td>NaN</td>\n",
              "    </tr>\n",
              "    <tr>\n",
              "      <th>10</th>\n",
              "      <td>1.73</td>\n",
              "      <td>NaN</td>\n",
              "    </tr>\n",
              "  </tbody>\n",
              "</table>\n",
              "</div>\n",
              "      <button class=\"colab-df-convert\" onclick=\"convertToInteractive('df-65304133-b326-423b-9775-2d06054b4499')\"\n",
              "              title=\"Convert this dataframe to an interactive table.\"\n",
              "              style=\"display:none;\">\n",
              "        \n",
              "  <svg xmlns=\"http://www.w3.org/2000/svg\" height=\"24px\"viewBox=\"0 0 24 24\"\n",
              "       width=\"24px\">\n",
              "    <path d=\"M0 0h24v24H0V0z\" fill=\"none\"/>\n",
              "    <path d=\"M18.56 5.44l.94 2.06.94-2.06 2.06-.94-2.06-.94-.94-2.06-.94 2.06-2.06.94zm-11 1L8.5 8.5l.94-2.06 2.06-.94-2.06-.94L8.5 2.5l-.94 2.06-2.06.94zm10 10l.94 2.06.94-2.06 2.06-.94-2.06-.94-.94-2.06-.94 2.06-2.06.94z\"/><path d=\"M17.41 7.96l-1.37-1.37c-.4-.4-.92-.59-1.43-.59-.52 0-1.04.2-1.43.59L10.3 9.45l-7.72 7.72c-.78.78-.78 2.05 0 2.83L4 21.41c.39.39.9.59 1.41.59.51 0 1.02-.2 1.41-.59l7.78-7.78 2.81-2.81c.8-.78.8-2.07 0-2.86zM5.41 20L4 18.59l7.72-7.72 1.47 1.35L5.41 20z\"/>\n",
              "  </svg>\n",
              "      </button>\n",
              "      \n",
              "  <style>\n",
              "    .colab-df-container {\n",
              "      display:flex;\n",
              "      flex-wrap:wrap;\n",
              "      gap: 12px;\n",
              "    }\n",
              "\n",
              "    .colab-df-convert {\n",
              "      background-color: #E8F0FE;\n",
              "      border: none;\n",
              "      border-radius: 50%;\n",
              "      cursor: pointer;\n",
              "      display: none;\n",
              "      fill: #1967D2;\n",
              "      height: 32px;\n",
              "      padding: 0 0 0 0;\n",
              "      width: 32px;\n",
              "    }\n",
              "\n",
              "    .colab-df-convert:hover {\n",
              "      background-color: #E2EBFA;\n",
              "      box-shadow: 0px 1px 2px rgba(60, 64, 67, 0.3), 0px 1px 3px 1px rgba(60, 64, 67, 0.15);\n",
              "      fill: #174EA6;\n",
              "    }\n",
              "\n",
              "    [theme=dark] .colab-df-convert {\n",
              "      background-color: #3B4455;\n",
              "      fill: #D2E3FC;\n",
              "    }\n",
              "\n",
              "    [theme=dark] .colab-df-convert:hover {\n",
              "      background-color: #434B5C;\n",
              "      box-shadow: 0px 1px 3px 1px rgba(0, 0, 0, 0.15);\n",
              "      filter: drop-shadow(0px 1px 2px rgba(0, 0, 0, 0.3));\n",
              "      fill: #FFFFFF;\n",
              "    }\n",
              "  </style>\n",
              "\n",
              "      <script>\n",
              "        const buttonEl =\n",
              "          document.querySelector('#df-65304133-b326-423b-9775-2d06054b4499 button.colab-df-convert');\n",
              "        buttonEl.style.display =\n",
              "          google.colab.kernel.accessAllowed ? 'block' : 'none';\n",
              "\n",
              "        async function convertToInteractive(key) {\n",
              "          const element = document.querySelector('#df-65304133-b326-423b-9775-2d06054b4499');\n",
              "          const dataTable =\n",
              "            await google.colab.kernel.invokeFunction('convertToInteractive',\n",
              "                                                     [key], {});\n",
              "          if (!dataTable) return;\n",
              "\n",
              "          const docLinkHtml = 'Like what you see? Visit the ' +\n",
              "            '<a target=\"_blank\" href=https://colab.research.google.com/notebooks/data_table.ipynb>data table notebook</a>'\n",
              "            + ' to learn more about interactive tables.';\n",
              "          element.innerHTML = '';\n",
              "          dataTable['output_type'] = 'display_data';\n",
              "          await google.colab.output.renderOutput(dataTable, element);\n",
              "          const docLink = document.createElement('div');\n",
              "          docLink.innerHTML = docLinkHtml;\n",
              "          element.appendChild(docLink);\n",
              "        }\n",
              "      </script>\n",
              "    </div>\n",
              "  </div>\n",
              "  "
            ]
          },
          "metadata": {},
          "execution_count": 78
        }
      ]
    },
    {
      "cell_type": "code",
      "source": [
        "df['Engine Hours'].head(11)\n",
        "\n",
        "#def EngineHourCleaner(array, string):\n",
        "\n",
        "    #new = array.str.rstring(' h')\n",
        "    #new = pd.to_numeric(new)\n",
        "\n",
        "    #return new\n",
        "\n",
        "#for col in ['Engine Hours']:\n",
        "df['Engine Hours'] = CellCleaner(df['Engine Hours'], ' h')"
      ],
      "metadata": {
        "id": "Ou4tolZ434w1",
        "outputId": "24e51d13-a43c-4480-d27b-2c02a2eb49e4",
        "colab": {
          "base_uri": "https://localhost:8080/",
          "height": 652
        }
      },
      "execution_count": 85,
      "outputs": [
        {
          "output_type": "error",
          "ename": "ValueError",
          "evalue": "ignored",
          "traceback": [
            "\u001b[0;31m---------------------------------------------------------------------------\u001b[0m",
            "\u001b[0;31mValueError\u001b[0m                                Traceback (most recent call last)",
            "\u001b[0;32m/usr/local/lib/python3.7/dist-packages/pandas/_libs/lib.pyx\u001b[0m in \u001b[0;36mpandas._libs.lib.maybe_convert_numeric\u001b[0;34m()\u001b[0m\n",
            "\u001b[0;31mValueError\u001b[0m: Unable to parse string \"500 h\"",
            "\nDuring handling of the above exception, another exception occurred:\n",
            "\u001b[0;31mValueError\u001b[0m                                Traceback (most recent call last)",
            "\u001b[0;32m<ipython-input-85-34ab4aeed7f5>\u001b[0m in \u001b[0;36m<module>\u001b[0;34m()\u001b[0m\n\u001b[1;32m      9\u001b[0m \u001b[0;34m\u001b[0m\u001b[0m\n\u001b[1;32m     10\u001b[0m \u001b[0;31m#for col in ['Engine Hours']:\u001b[0m\u001b[0;34m\u001b[0m\u001b[0;34m\u001b[0m\u001b[0;34m\u001b[0m\u001b[0m\n\u001b[0;32m---> 11\u001b[0;31m \u001b[0mdf\u001b[0m\u001b[0;34m[\u001b[0m\u001b[0;34m'Engine Hours'\u001b[0m\u001b[0;34m]\u001b[0m \u001b[0;34m=\u001b[0m \u001b[0mCellCleaner\u001b[0m\u001b[0;34m(\u001b[0m\u001b[0mdf\u001b[0m\u001b[0;34m[\u001b[0m\u001b[0;34m'Engine Hours'\u001b[0m\u001b[0;34m]\u001b[0m\u001b[0;34m,\u001b[0m \u001b[0;34m' h'\u001b[0m\u001b[0;34m)\u001b[0m\u001b[0;34m\u001b[0m\u001b[0;34m\u001b[0m\u001b[0m\n\u001b[0m",
            "\u001b[0;32m<ipython-input-78-34a90ccc484e>\u001b[0m in \u001b[0;36mCellCleaner\u001b[0;34m(series, char)\u001b[0m\n\u001b[1;32m     11\u001b[0m \u001b[0;34m\u001b[0m\u001b[0m\n\u001b[1;32m     12\u001b[0m     \u001b[0mnew_series\u001b[0m \u001b[0;34m=\u001b[0m \u001b[0mseries\u001b[0m\u001b[0;34m.\u001b[0m\u001b[0mstr\u001b[0m\u001b[0;34m.\u001b[0m\u001b[0mrstrip\u001b[0m\u001b[0;34m(\u001b[0m\u001b[0;34m' m'\u001b[0m\u001b[0;34m)\u001b[0m\u001b[0;34m\u001b[0m\u001b[0;34m\u001b[0m\u001b[0m\n\u001b[0;32m---> 13\u001b[0;31m     \u001b[0mnew_series\u001b[0m \u001b[0;34m=\u001b[0m \u001b[0mpd\u001b[0m\u001b[0;34m.\u001b[0m\u001b[0mto_numeric\u001b[0m\u001b[0;34m(\u001b[0m\u001b[0mnew_series\u001b[0m\u001b[0;34m)\u001b[0m\u001b[0;34m\u001b[0m\u001b[0;34m\u001b[0m\u001b[0m\n\u001b[0m\u001b[1;32m     14\u001b[0m \u001b[0;34m\u001b[0m\u001b[0m\n\u001b[1;32m     15\u001b[0m     \u001b[0;32mreturn\u001b[0m \u001b[0mnew_series\u001b[0m\u001b[0;34m\u001b[0m\u001b[0;34m\u001b[0m\u001b[0m\n",
            "\u001b[0;32m/usr/local/lib/python3.7/dist-packages/pandas/core/tools/numeric.py\u001b[0m in \u001b[0;36mto_numeric\u001b[0;34m(arg, errors, downcast)\u001b[0m\n\u001b[1;32m    182\u001b[0m         \u001b[0;32mtry\u001b[0m\u001b[0;34m:\u001b[0m\u001b[0;34m\u001b[0m\u001b[0;34m\u001b[0m\u001b[0m\n\u001b[1;32m    183\u001b[0m             values, _ = lib.maybe_convert_numeric(\n\u001b[0;32m--> 184\u001b[0;31m                 \u001b[0mvalues\u001b[0m\u001b[0;34m,\u001b[0m \u001b[0mset\u001b[0m\u001b[0;34m(\u001b[0m\u001b[0;34m)\u001b[0m\u001b[0;34m,\u001b[0m \u001b[0mcoerce_numeric\u001b[0m\u001b[0;34m=\u001b[0m\u001b[0mcoerce_numeric\u001b[0m\u001b[0;34m\u001b[0m\u001b[0;34m\u001b[0m\u001b[0m\n\u001b[0m\u001b[1;32m    185\u001b[0m             )\n\u001b[1;32m    186\u001b[0m         \u001b[0;32mexcept\u001b[0m \u001b[0;34m(\u001b[0m\u001b[0mValueError\u001b[0m\u001b[0;34m,\u001b[0m \u001b[0mTypeError\u001b[0m\u001b[0;34m)\u001b[0m\u001b[0;34m:\u001b[0m\u001b[0;34m\u001b[0m\u001b[0;34m\u001b[0m\u001b[0m\n",
            "\u001b[0;32m/usr/local/lib/python3.7/dist-packages/pandas/_libs/lib.pyx\u001b[0m in \u001b[0;36mpandas._libs.lib.maybe_convert_numeric\u001b[0;34m()\u001b[0m\n",
            "\u001b[0;31mValueError\u001b[0m: Unable to parse string \"500 h\" at position 4"
          ]
        }
      ]
    },
    {
      "cell_type": "code",
      "source": [
        "#df = df.rename(columns={'Length_Clean':'Length_NEW','Width_Clean':'Width_NEW','Depth_Clean':'Depth_NEW'})\n",
        "#df.dtypes\n",
        "\n",
        "\n",
        "col_1 = df.select_dtypes(include='object').columns\n",
        "for col in col_1:\n",
        "  #print(f\"Column {col} has {df[col].nunique()} categories\\n\")\n",
        "    print(f\"Column {col} has {df[col].nunique()} categories\\n\")\n",
        "\n",
        "\n",
        "  "
      ],
      "metadata": {
        "id": "n-u-F7635r6e",
        "outputId": "bacc218b-e83d-41de-8a51-1be3976b091e",
        "colab": {
          "base_uri": "https://localhost:8080/"
        }
      },
      "execution_count": 95,
      "outputs": [
        {
          "output_type": "stream",
          "name": "stdout",
          "text": [
            "Column Price has 3283 categories\n",
            "\n",
            "Column Category has 1 categories\n",
            "\n",
            "Column Boat Type has 135 categories\n",
            "\n",
            "Column Manufacturer has 932 categories\n",
            "\n",
            "Column Model has 7458 categories\n",
            "\n",
            "Column Boat name has 1258 categories\n",
            "\n",
            "Column Type has 36 categories\n",
            "\n",
            "Column Condition has 10 categories\n",
            "\n",
            "Column Length has 1628 categories\n",
            "\n",
            "Column Displacement has 1380 categories\n",
            "\n",
            "Column CE Design Category has 4 categories\n",
            "\n",
            "Column Hull Color has 377 categories\n",
            "\n",
            "Column Material has 11 categories\n",
            "\n",
            "Column Fresh Water Cap has 287 categories\n",
            "\n",
            "Column Holding Tank has 104 categories\n",
            "\n",
            "Column Propulsion has 8 categories\n",
            "\n",
            "Column Engine has 4752 categories\n",
            "\n",
            "Column Engine Performance has 843 categories\n",
            "\n",
            "Column Fuel Capacity has 716 categories\n",
            "\n",
            "Column Fuel Type has 6 categories\n",
            "\n",
            "Column Engine Hours has 996 categories\n",
            "\n",
            "Column Max Speed has 99 categories\n",
            "\n",
            "Column Cruising Speed has 57 categories\n",
            "\n",
            "Column Location has 3177 categories\n",
            "\n",
            "Column Number of views last 7 days has 680 categories\n",
            "\n",
            "Column Comments has 6631 categories\n",
            "\n",
            "Column Additional Comments has 2410 categories\n",
            "\n",
            "Column Equipment has 5301 categories\n",
            "\n",
            "Column Displacement_Clean has 1380 categories\n",
            "\n"
          ]
        }
      ]
    },
    {
      "cell_type": "code",
      "source": [
        "col_object_l = df.select_dtypes(include='object').columns # Stock les colonnes\n",
        "for col in col_object_l:\n",
        "    print(f\"Column {col} has {df[col].nunique()} categories\\n\")"
      ],
      "metadata": {
        "id": "Ut1ZlvC16iag",
        "outputId": "ec6b18a2-4e28-45fd-ae1f-6ae5bca43b60",
        "colab": {
          "base_uri": "https://localhost:8080/"
        }
      },
      "execution_count": 91,
      "outputs": [
        {
          "output_type": "stream",
          "name": "stdout",
          "text": [
            "Column Price has 3283 categories\n",
            "\n",
            "Column Category has 1 categories\n",
            "\n",
            "Column Boat Type has 135 categories\n",
            "\n",
            "Column Manufacturer has 932 categories\n",
            "\n",
            "Column Model has 7458 categories\n",
            "\n",
            "Column Boat name has 1258 categories\n",
            "\n",
            "Column Type has 36 categories\n",
            "\n",
            "Column Condition has 10 categories\n",
            "\n",
            "Column Length has 1628 categories\n",
            "\n",
            "Column Displacement has 1380 categories\n",
            "\n",
            "Column CE Design Category has 4 categories\n",
            "\n",
            "Column Hull Color has 377 categories\n",
            "\n",
            "Column Material has 11 categories\n",
            "\n",
            "Column Fresh Water Cap has 287 categories\n",
            "\n",
            "Column Holding Tank has 104 categories\n",
            "\n",
            "Column Propulsion has 8 categories\n",
            "\n",
            "Column Engine has 4752 categories\n",
            "\n",
            "Column Engine Performance has 843 categories\n",
            "\n",
            "Column Fuel Capacity has 716 categories\n",
            "\n",
            "Column Fuel Type has 6 categories\n",
            "\n",
            "Column Engine Hours has 996 categories\n",
            "\n",
            "Column Max Speed has 99 categories\n",
            "\n",
            "Column Cruising Speed has 57 categories\n",
            "\n",
            "Column Location has 3177 categories\n",
            "\n",
            "Column Number of views last 7 days has 680 categories\n",
            "\n",
            "Column Comments has 6631 categories\n",
            "\n",
            "Column Additional Comments has 2410 categories\n",
            "\n",
            "Column Equipment has 5301 categories\n",
            "\n",
            "Column Displacement_Clean has 1380 categories\n",
            "\n"
          ]
        }
      ]
    },
    {
      "cell_type": "code",
      "source": [
        "List_Of_Col_To_Drop = ['Category','Number of views last 7 days','Additional Comments']\n",
        "#print(List_Of_Col_To_Drop)\n",
        "\n",
        "df = df.drop(columns = List_Of_Col_To_Drop, inplace = True)\n",
        "#df = df.drop(columns = List_Of_Col_To_Drop, inplace = True)\n"
      ],
      "metadata": {
        "id": "rURNENSn7e7v"
      },
      "execution_count": 119,
      "outputs": []
    },
    {
      "cell_type": "markdown",
      "source": [
        ""
      ],
      "metadata": {
        "id": "tZM7uC_gl38H"
      }
    },
    {
      "cell_type": "code",
      "source": [
        "df.head()"
      ],
      "metadata": {
        "id": "LmCw0yls8VEo",
        "outputId": "746c3efd-1a3a-4dd5-9b5f-836ff6c6f6e4",
        "colab": {
          "base_uri": "https://localhost:8080/",
          "height": 171
        }
      },
      "execution_count": 120,
      "outputs": [
        {
          "output_type": "error",
          "ename": "AttributeError",
          "evalue": "ignored",
          "traceback": [
            "\u001b[0;31m---------------------------------------------------------------------------\u001b[0m",
            "\u001b[0;31mAttributeError\u001b[0m                            Traceback (most recent call last)",
            "\u001b[0;32m<ipython-input-120-c42a15b2c7cf>\u001b[0m in \u001b[0;36m<module>\u001b[0;34m()\u001b[0m\n\u001b[0;32m----> 1\u001b[0;31m \u001b[0mdf\u001b[0m\u001b[0;34m.\u001b[0m\u001b[0mhead\u001b[0m\u001b[0;34m(\u001b[0m\u001b[0;34m)\u001b[0m\u001b[0;34m\u001b[0m\u001b[0;34m\u001b[0m\u001b[0m\n\u001b[0m",
            "\u001b[0;31mAttributeError\u001b[0m: 'NoneType' object has no attribute 'head'"
          ]
        }
      ]
    }
  ]
}