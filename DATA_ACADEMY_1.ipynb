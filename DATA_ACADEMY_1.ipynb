{
  "nbformat": 4,
  "nbformat_minor": 0,
  "metadata": {
    "colab": {
      "name": "Untitled0.ipynb",
      "provenance": [],
      "authorship_tag": "ABX9TyM0WgbfH1o2yVqXoqMIbsV1",
      "include_colab_link": true
    },
    "kernelspec": {
      "name": "python3",
      "display_name": "Python 3"
    },
    "language_info": {
      "name": "python"
    }
  },
  "cells": [
    {
      "cell_type": "markdown",
      "metadata": {
        "id": "view-in-github",
        "colab_type": "text"
      },
      "source": [
        "<a href=\"https://colab.research.google.com/github/D0MOVF/DATA_ACADEMY/blob/main/DATA_ACADEMY_1.ipynb\" target=\"_parent\"><img src=\"https://colab.research.google.com/assets/colab-badge.svg\" alt=\"Open In Colab\"/></a>"
      ]
    },
    {
      "cell_type": "code",
      "execution_count": null,
      "metadata": {
        "id": "m2U8yUYQQ-Ge"
      },
      "outputs": [],
      "source": [
        "#Example"
      ]
    },
    {
      "cell_type": "code",
      "source": [
        "# Run everytime I log into Colab --> needed to pull files from Kaggle!\n",
        "\n",
        "!pip install -q kaggle\n",
        "from google.colab import files\n",
        "files.upload()\n",
        "#create a kaggle folder\n",
        "!mkdir ~/.kaggle\n",
        "# Go on kaggle > Account > Create New API token\n",
        "# Save the json file in your laptop in a dedicated folder\n",
        "# copy the kaggle.json to folder created\n",
        "!cp kaggle.json ~/.kaggle\n",
        "#permission for the json to act\n",
        "!chmod 600 ~/.kaggle/kaggle.json\n",
        "# Datasets available here: \n",
        "# https://www.kaggle.com/avikpaul4u/vehicle-loan-default-prediction\n",
        "!kaggle datasets download -d avikpaul4u/vehicle-loan-default-prediction\n",
        "!unzip vehicle-loan-default-prediction.zip\n",
        "# https://www.kaggle.com/uciml/red-wine-quality-cortez-et-al-2009\n",
        "!kaggle datasets download -d uciml/red-wine-quality-cortez-et-al-2009\n",
        "!unzip red-wine-quality-cortez-et-al-2009.zip\n",
        "\n",
        "!kaggle datasets download -d artemkorottchenko/large-boatyacht-pricing-dataset\n",
        "!unzip large-boatyacht-pricing-dataset.zip\n",
        "\n",
        "# Upon running, need to \"CHOOSE FILE\" in Documents/Kaggle.JSON"
      ],
      "metadata": {
        "id": "-REW_57hRE2T",
        "outputId": "a84f95eb-0d90-485d-9a1e-5dab37acec59",
        "colab": {
          "resources": {
            "http://localhost:8080/nbextensions/google.colab/files.js": {
              "data": "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",
              "ok": true,
              "headers": [
                [
                  "content-type",
                  "application/javascript"
                ]
              ],
              "status": 200,
              "status_text": ""
            }
          },
          "base_uri": "https://localhost:8080/",
          "height": 368
        }
      },
      "execution_count": null,
      "outputs": [
        {
          "output_type": "display_data",
          "data": {
            "text/plain": [
              "<IPython.core.display.HTML object>"
            ],
            "text/html": [
              "\n",
              "     <input type=\"file\" id=\"files-7225acb5-054e-43e5-ad8d-cba2e4918f8d\" name=\"files[]\" multiple disabled\n",
              "        style=\"border:none\" />\n",
              "     <output id=\"result-7225acb5-054e-43e5-ad8d-cba2e4918f8d\">\n",
              "      Upload widget is only available when the cell has been executed in the\n",
              "      current browser session. Please rerun this cell to enable.\n",
              "      </output>\n",
              "      <script src=\"/nbextensions/google.colab/files.js\"></script> "
            ]
          },
          "metadata": {}
        },
        {
          "output_type": "stream",
          "name": "stdout",
          "text": [
            "Saving kaggle.json to kaggle.json\n",
            "Downloading vehicle-loan-default-prediction.zip to /content\n",
            " 77% 9.00M/11.6M [00:00<00:00, 70.9MB/s]\n",
            "100% 11.6M/11.6M [00:00<00:00, 86.5MB/s]\n",
            "Archive:  vehicle-loan-default-prediction.zip\n",
            "  inflating: Data Dictionary.xlsx    \n",
            "  inflating: test.csv                \n",
            "  inflating: train.csv               \n",
            "Downloading red-wine-quality-cortez-et-al-2009.zip to /content\n",
            "  0% 0.00/25.6k [00:00<?, ?B/s]\n",
            "100% 25.6k/25.6k [00:00<00:00, 20.7MB/s]\n",
            "Archive:  red-wine-quality-cortez-et-al-2009.zip\n",
            "  inflating: winequality-red.csv     \n",
            "Downloading large-boatyacht-pricing-dataset.zip to /content\n",
            "  0% 0.00/6.22M [00:00<?, ?B/s]\n",
            "100% 6.22M/6.22M [00:00<00:00, 78.8MB/s]\n",
            "Archive:  large-boatyacht-pricing-dataset.zip\n",
            "  inflating: boat_dataset.csv        \n"
          ]
        }
      ]
    },
    {
      "cell_type": "code",
      "source": [
        "7+3"
      ],
      "metadata": {
        "id": "Nw2vP0XqUR7D",
        "colab": {
          "base_uri": "https://localhost:8080/"
        },
        "outputId": "fa62054d-2fb4-4ca8-f982-9f7b737b37a2"
      },
      "execution_count": null,
      "outputs": [
        {
          "output_type": "execute_result",
          "data": {
            "text/plain": [
              "10"
            ]
          },
          "metadata": {},
          "execution_count": 1
        }
      ]
    },
    {
      "cell_type": "code",
      "source": [
        "#Python is a calculator\n",
        "7+3\n",
        "#It always only outputs the result of the LAST calculation\n",
        "8*2"
      ],
      "metadata": {
        "colab": {
          "base_uri": "https://localhost:8080/"
        },
        "id": "iUXg9bfIVtM4",
        "outputId": "948256f6-d5ec-4e47-9667-3954711d120f"
      },
      "execution_count": null,
      "outputs": [
        {
          "output_type": "execute_result",
          "data": {
            "text/plain": [
              "16"
            ]
          },
          "metadata": {},
          "execution_count": 6
        }
      ]
    },
    {
      "cell_type": "code",
      "source": [
        "21**2 # Exponential\n",
        "21^2 # Exponential\n",
        "21%2 # Modulo - Geteilt durch 2 + was ist der Rest --> Modulo ist der Rest; e.g. 23%3 = 23/3 --> Modulo = Rest 2?\n"
      ],
      "metadata": {
        "colab": {
          "base_uri": "https://localhost:8080/"
        },
        "id": "gWgRjakMWDvw",
        "outputId": "ea82e26d-1ec6-409d-88fb-7d8b215363a6"
      },
      "execution_count": null,
      "outputs": [
        {
          "output_type": "execute_result",
          "data": {
            "text/plain": [
              "1"
            ]
          },
          "metadata": {},
          "execution_count": 9
        }
      ]
    },
    {
      "cell_type": "code",
      "source": [
        "#Assign a number to an OBJECT (variable / constant)\n",
        "obj_G = 2 # Assign value 2 to object \"obj_G\" by using \"=\" / equal sign\n",
        "print(obj_G)  "
      ],
      "metadata": {
        "colab": {
          "base_uri": "https://localhost:8080/"
        },
        "id": "FnugRz2tWQ6Y",
        "outputId": "78636fc0-33ab-4aaf-8137-663dd45cf5f4"
      },
      "execution_count": null,
      "outputs": [
        {
          "output_type": "stream",
          "name": "stdout",
          "text": [
            "2\n"
          ]
        }
      ]
    },
    {
      "cell_type": "code",
      "source": [
        "#Boolean\n",
        "obj_G == 1 # Logical test: is obj_G = 1? NO, as above it was stated that it is 2!\n",
        "!= is NOT EQUAL"
      ],
      "metadata": {
        "colab": {
          "base_uri": "https://localhost:8080/"
        },
        "id": "xxVX5n_3W2ZN",
        "outputId": "c9ca5412-c4e3-4e11-f19e-46508fdde0ec"
      },
      "execution_count": null,
      "outputs": [
        {
          "output_type": "execute_result",
          "data": {
            "text/plain": [
              "False"
            ]
          },
          "metadata": {},
          "execution_count": 18
        }
      ]
    },
    {
      "cell_type": "code",
      "source": [
        "#Other Logical operators\n",
        "obj_G >= 3\n",
        "obj_G <= 2\n",
        "obj_G < 1"
      ],
      "metadata": {
        "colab": {
          "base_uri": "https://localhost:8080/"
        },
        "id": "Ne_xnx82XFmX",
        "outputId": "95eb39d9-3c3d-406a-e2db-c0a40068d692"
      },
      "execution_count": null,
      "outputs": [
        {
          "output_type": "execute_result",
          "data": {
            "text/plain": [
              "False"
            ]
          },
          "metadata": {},
          "execution_count": 21
        }
      ]
    },
    {
      "cell_type": "code",
      "source": [
        "#SAS is NOT case-sensitive --> Caps / lower characters DO NOT MATTER\n",
        "#Python IS case-sensitive! Beautiful =/ BeAuTiFuL ! Need to be very careful!\n",
        "Beautiful = 1 #Declare\n",
        "BeAuTiFuL = 2 #Declare\n",
        "Beautiful == BeAuTiFuL #Logical test --> False!"
      ],
      "metadata": {
        "colab": {
          "base_uri": "https://localhost:8080/"
        },
        "id": "c-w4dy9dXT9r",
        "outputId": "ba22024d-34dd-4234-9e1d-f62bc2742e49"
      },
      "execution_count": null,
      "outputs": [
        {
          "output_type": "execute_result",
          "data": {
            "text/plain": [
              "False"
            ]
          },
          "metadata": {},
          "execution_count": 24
        }
      ]
    },
    {
      "cell_type": "code",
      "source": [
        "#Data Types\n",
        "#1) LISTS - Objects defined in square brackets [] = Array! Held values need to be defined in double apostrophes!\n",
        "Cities = [\"Paris\", \"Zurich\", \"Rome\",\"Berlin\"]\n",
        "\"London\" in Cities #Check if String \"London\" is part of the defined list/array\n",
        "\"London\" not in Cities\n",
        "print(Cities) #Display list contents\n",
        "type(Cities) #Check Data type of the Object!\n",
        "\n",
        "#Access values within a list - First entry in a list is always location 0! Python is 0 based!\n",
        "Cities [0] # will access/select the first entry within a list.\n",
        "Cities [-1] # counts backwards, i.e. always shows the LAST entry of a list\n",
        "\n",
        "# List value substitution\n",
        "Cities[-1] = \"Milan\" # substitute values within a list\n",
        "print(Cities) \n",
        "\n",
        "# List value insertion\n",
        "Cities.insert(2, \"Hong Kong\") # extends list with a new value at designated location\n",
        "print(Cities)\n",
        "\n",
        "# List value append\n",
        "Cities.append(\"Rio de Janeiro\") # appends a new value --> per default always BY THE END!\n",
        "print(Cities)\n",
        "\n",
        "# List value removal/deletion\n",
        "Cities.remove(\"Paris\") # deletes the FIRST string of a list! \n",
        "print(Cities)\n",
        "\n",
        "# Insertion of numerical values into a list\n",
        "Cities.insert(2, 100) #100 is numerical, \"100\" if you want it to be a string\n",
        "print(Cities)\n",
        "\n",
        "# KEY: Lists can hold ANY type of value - SICK!\n",
        "type(Cities[2]) #can tell you the format/data type of an object within a list by providing the relative position in the list: position [2] = 100 = int (for integer); [3] = str (for string)\n",
        "\n",
        "# Index position of list values\n",
        "Cities.index(\"Milan\") # position = 4, which is the fifth value (as Python is 0 based)\n",
        "\n",
        "# Concatenation of lists by using the + operator\n",
        "New_list = [1,3,5,2]\n",
        "Cities2 = Cities + New_list # Concatenate x number of lists by \"+\"\n",
        "print(Cities2)\n",
        "\n",
        "# Note: lists are defined by square brackets [] --> these values can be targeted and swapped, extended, changed etc.\n",
        "# Note: lists can be also be defined by regular brackets () --> these are called \"tuples\" and its values CANNOT change! Don't use it, as less flexible"
      ],
      "metadata": {
        "id": "kD4tM6paX_O6",
        "outputId": "327f3153-647a-430a-bee9-18d8dad1aac6",
        "colab": {
          "base_uri": "https://localhost:8080/"
        }
      },
      "execution_count": null,
      "outputs": [
        {
          "output_type": "stream",
          "name": "stdout",
          "text": [
            "['Paris', 'Zurich', 'Rome', 'Berlin']\n",
            "['Paris', 'Zurich', 'Rome', 'Milan']\n",
            "['Paris', 'Zurich', 'Hong Kong', 'Rome', 'Milan']\n",
            "['Paris', 'Zurich', 'Hong Kong', 'Rome', 'Milan', 'Rio de Janeiro']\n",
            "['Zurich', 'Hong Kong', 'Rome', 'Milan', 'Rio de Janeiro']\n",
            "['Zurich', 'Hong Kong', 100, 'Rome', 'Milan', 'Rio de Janeiro']\n",
            "['Zurich', 'Hong Kong', 100, 'Rome', 'Milan', 'Rio de Janeiro', 1, 3, 5, 2]\n"
          ]
        }
      ]
    },
    {
      "cell_type": "code",
      "source": [
        "# Conditions\n",
        "\n",
        "val = -11 # can also hold calculations; e.g. 0-11 = -11\n",
        "\n",
        "if val > 0: # colon is basically \"then\"\n",
        "  print('The value is positive')\n",
        "\n",
        "elif val < 0: # elif = else if\n",
        "  print('The value is negative')\n",
        "\n",
        "elif val < -10:\n",
        "  print('Very low')\n",
        "\n",
        "else: # final if condition with else\n",
        "  print('The value equals 0')\n",
        "\n",
        "# KEY: Python will only output the FIRST condition that is met. I.e. -11 will trigger 'The value is negative' --> not jump to 'Very low' as already satisfied\n"
      ],
      "metadata": {
        "id": "LPo2QD8Sdiin",
        "outputId": "145757ea-b01b-4e42-d501-0c4d5cdd1cc8",
        "colab": {
          "base_uri": "https://localhost:8080/"
        }
      },
      "execution_count": null,
      "outputs": [
        {
          "output_type": "stream",
          "name": "stdout",
          "text": [
            "The value is negative\n"
          ]
        }
      ]
    },
    {
      "cell_type": "code",
      "source": [
        "# Need to take into account the ORDER of conditions to not stop and produce a wrong output!\n",
        "# CASE when with nested if conditions does exist too! Preference to use this as it could avoid reordering issues!!!\n",
        "\n",
        "val = -11 # can also hold calculations; e.g. 0-11 = -11\n",
        "\n",
        "if val > 0: # colon is basically \"then\"\n",
        "  print('The value is positive')\n",
        "\n",
        "elif val < -10:\n",
        "  print('Very low')\n",
        "\n",
        "elif val < 0: # elif = else if\n",
        "  print('The value is negative')\n",
        "\n",
        "else: # final if condition with else\n",
        "  print('The value equals 0')\n"
      ],
      "metadata": {
        "id": "_WtZqN_2eomg",
        "outputId": "8bd7992a-630d-4bd8-cc1e-b1eeab6dca3c",
        "colab": {
          "base_uri": "https://localhost:8080/"
        }
      },
      "execution_count": null,
      "outputs": [
        {
          "output_type": "stream",
          "name": "stdout",
          "text": [
            "Very low\n"
          ]
        }
      ]
    },
    {
      "cell_type": "code",
      "source": [
        "# Logical expressions for if:\n",
        "# a == b: is a equal to b\n",
        "# a != b: is a different from b\n",
        "# a <= b: is a lower or equal than b\n",
        "# a >= b: is a greater or equal than b\n",
        "# a < b: is a strictly lower than b\n",
        "# a > b: is a strictly greater than b\n",
        "# a is b: is a the same object as b\n",
        "# condition_a and condition_b: logical AND\n",
        "# condition_a or condition_b: logical OR\n",
        "# not: negation"
      ],
      "metadata": {
        "id": "3WQyjn2afTes"
      },
      "execution_count": null,
      "outputs": []
    },
    {
      "cell_type": "code",
      "source": [
        "# FOR LOOP\n",
        "\n",
        "fruits = ['apple', 'pear', 'cherry']\n",
        "for element in fruits: # colon : is equal to \"then\"\n",
        "  # print(fruits) # print exact contents\n",
        "  print(element) # an element is every object within a list\n",
        "\n",
        "# NESTED LOOPS (Loops within loops)\n",
        "\n",
        "list_of_list = [['a', 'b', 'c'], [1,2,3]] # this list consists of TWO Elements! Both element contents in brackets and separated by a comma\n",
        "# print(list_of_list)\n",
        "\n",
        "for sub_list in list_of_list:\n",
        "  print(\"We treat the list: \", sub_list)\n",
        "\n",
        "  for element in sub_list:\n",
        "    print('We display the element: ', element)"
      ],
      "metadata": {
        "id": "Fj1DZ_Jdf99D",
        "outputId": "c62e84dc-a76b-4c76-a136-46994f401184",
        "colab": {
          "base_uri": "https://localhost:8080/"
        }
      },
      "execution_count": null,
      "outputs": [
        {
          "output_type": "stream",
          "name": "stdout",
          "text": [
            "apple\n",
            "pear\n",
            "cherry\n",
            "We treat the list:  ['a', 'b', 'c']\n",
            "We display the element:  a\n",
            "We display the element:  b\n",
            "We display the element:  c\n",
            "We treat the list:  [1, 2, 3]\n",
            "We display the element:  1\n",
            "We display the element:  2\n",
            "We display the element:  3\n"
          ]
        }
      ]
    },
    {
      "cell_type": "code",
      "source": [
        "fruits = ['apple', 'pear', 'cherry']\n",
        "for i in fruits: # colon : is equal to \"then\"\n",
        "  i = 'banana'\n",
        "  print(i) \n",
        "\n",
        "  #"
      ],
      "metadata": {
        "id": "sp763vvrg0VE",
        "outputId": "d30314df-d830-4cf9-b6ee-920add506877",
        "colab": {
          "base_uri": "https://localhost:8080/"
        }
      },
      "execution_count": null,
      "outputs": [
        {
          "output_type": "stream",
          "name": "stdout",
          "text": [
            "banana\n",
            "banana\n",
            "banana\n"
          ]
        }
      ]
    },
    {
      "cell_type": "code",
      "source": [
        "# KEY: Need to be really careful of indents!\n",
        "# KEY: Indent (ONLY EVER 1) determines nesting level\n",
        "\n",
        "list_of_list = [['a', 'b', 'c'], [1,2,3]] # this list consists of TWO Elements! Both element contents in brackets and separated by a comma\n",
        "# print(list_of_list)\n",
        "\n",
        "for sub_list in list_of_list: #no indent # sub_list = subject\n",
        "  print(\"We treat the list: \", sub_list)\n",
        "\n",
        "  for element in sub_list: #indent 1 tab --> first nesting level\n",
        "    print('We display the element: ', element)\n",
        "\n",
        "\n",
        "\n",
        "\n",
        "# Note: Other type of loops: WHILE LOOPS"
      ],
      "metadata": {
        "id": "VslDyquSiEzt",
        "outputId": "77a410a5-e996-4b97-9ea5-4fdbb3b0be44",
        "colab": {
          "base_uri": "https://localhost:8080/"
        }
      },
      "execution_count": null,
      "outputs": [
        {
          "output_type": "stream",
          "name": "stdout",
          "text": [
            "We treat the list:  ['a', 'b', 'c']\n",
            "We display the element:  a\n",
            "We display the element:  b\n",
            "We display the element:  c\n",
            "We treat the list:  [1, 2, 3]\n",
            "We display the element:  1\n",
            "We display the element:  2\n",
            "We display the element:  3\n"
          ]
        }
      ]
    },
    {
      "cell_type": "code",
      "source": [
        "# FUNCTIONS\n",
        "\n",
        "# E.g. .append / .insert etc. are built-in functions\n",
        "# Python requires functions to perform basic actions - like importing a .csv file - these functions are located within \"packages\"/part of \"libraries\"\n",
        "# We need to call these libraries of functions --> don't have to write these functions ourselves! Just call them with a single line of code\n",
        "# Writing my own functions only ever comes up for very specific requirements / for which no libraries/function packages exist\n",
        "\n",
        "#Functions are objects themselves\n",
        "#Variables as part of a function do NOT exist outside of the function!\n",
        "\n",
        "#Functions start with \"def\" --> \"define\"\n",
        "#Then comes the name of the function\n",
        "#In parentheses, state the variables of the function, e.g. a/b/c, length/width etc.\n",
        "#Optional variables to a function: declare variable = None, for example: a, b=None --> can still use the function and assign a value to b, but function will work without it!\n",
        "\n",
        "\n",
        "def awesome_dominik_function_to_calculate_area(a, b):\n",
        "  '''\n",
        "  Function to calculate the area of a rectangle\n",
        "  \n",
        "  Parameters:\n",
        "  a = length\n",
        "  b = width\n",
        "  '''\n",
        "  \n",
        "  # three ''' create lines which can hold descriptions, e.g. the purpose of the function! Useful documentation!\n",
        "\n",
        "  my_area = a*b\n",
        "\n",
        "  return my_area # be careful of indents!\n"
      ],
      "metadata": {
        "id": "n96ggaj3jSkv"
      },
      "execution_count": null,
      "outputs": []
    },
    {
      "cell_type": "code",
      "source": [
        "# Create an object which holds the result of the function + print the output\n",
        "\n",
        "area1 = awesome_dominik_function_to_calculate_area(10,8)\n",
        "print(area1)\n",
        "\n",
        "area2 = awesome_dominik_function_to_calculate_area(85, 91)\n",
        "print(area2)\n",
        "\n",
        "area3 = area2 - area1\n",
        "print(area3)\n",
        "type(area3)"
      ],
      "metadata": {
        "id": "ASnBBPnEmLtZ",
        "outputId": "a3982ec5-e7ec-4b29-ff36-0db54d610921",
        "colab": {
          "base_uri": "https://localhost:8080/"
        }
      },
      "execution_count": null,
      "outputs": [
        {
          "output_type": "stream",
          "name": "stdout",
          "text": [
            "80\n",
            "7735\n",
            "7655\n"
          ]
        },
        {
          "output_type": "execute_result",
          "data": {
            "text/plain": [
              "int"
            ]
          },
          "metadata": {},
          "execution_count": 101
        }
      ]
    },
    {
      "cell_type": "code",
      "source": [
        "# Remove identical values from a list with a loop\n",
        "# List comprehension\n",
        "\n",
        "last_list = [0, 1, 2, 3, 4, 5, 888, 6, 7, 888, 8, 888, 9] # let us delete all the 888's\n",
        "print(last_list)\n",
        "# Define value to be deleted\n",
        "valueToBeRemoved = 888\n",
        "\n",
        "last_list2 = last_list\n",
        "# Loop through entire list to only retain values which are DIFFERENT to valueToBeRemoved\n",
        "# Entirely depends on the operator: != only where NOT 888 whereas == only where IS 888\n",
        "last_list = [value for value in last_list if value != valueToBeRemoved]\n",
        "print(last_list)\n",
        "\n",
        "last_list2 = [value for value in last_list2 if value == valueToBeRemoved]\n",
        "print(last_list2)"
      ],
      "metadata": {
        "id": "h-xBBVu1nfrA",
        "outputId": "ea0de1b0-1231-4070-9588-0882ff0b93b3",
        "colab": {
          "base_uri": "https://localhost:8080/"
        }
      },
      "execution_count": null,
      "outputs": [
        {
          "output_type": "stream",
          "name": "stdout",
          "text": [
            "[0, 1, 2, 3, 4, 5, 888, 6, 7, 888, 8, 888, 9]\n",
            "[0, 1, 2, 3, 4, 5, 6, 7, 8, 9]\n",
            "[888, 888, 888]\n"
          ]
        }
      ]
    }
  ]
}