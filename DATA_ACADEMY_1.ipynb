{
  "nbformat": 4,
  "nbformat_minor": 0,
  "metadata": {
    "colab": {
      "name": "Untitled0.ipynb",
      "provenance": [],
      "authorship_tag": "ABX9TyMaCEXpgmr7906qK4OXNZOL",
      "include_colab_link": true
    },
    "kernelspec": {
      "name": "python3",
      "display_name": "Python 3"
    },
    "language_info": {
      "name": "python"
    }
  },
  "cells": [
    {
      "cell_type": "markdown",
      "metadata": {
        "id": "view-in-github",
        "colab_type": "text"
      },
      "source": [
        "<a href=\"https://colab.research.google.com/github/D0MOVF/DATA_ACADEMY/blob/main/DATA_ACADEMY_1.ipynb\" target=\"_parent\"><img src=\"https://colab.research.google.com/assets/colab-badge.svg\" alt=\"Open In Colab\"/></a>"
      ]
    },
    {
      "cell_type": "code",
      "execution_count": null,
      "metadata": {
        "id": "m2U8yUYQQ-Ge"
      },
      "outputs": [],
      "source": [
        "#Example"
      ]
    },
    {
      "cell_type": "code",
      "source": [
        "# Run everytime I log into Colab --> needed to pull files from Kaggle!\n",
        "\n",
        "!pip install -q kaggle\n",
        "from google.colab import files\n",
        "files.upload()\n",
        "#create a kaggle folder\n",
        "!mkdir ~/.kaggle\n",
        "# Go on kaggle > Account > Create New API token\n",
        "# Save the json file in your laptop in a dedicated folder\n",
        "# copy the kaggle.json to folder created\n",
        "!cp kaggle.json ~/.kaggle\n",
        "#permission for the json to act\n",
        "!chmod 600 ~/.kaggle/kaggle.json\n",
        "# Datasets available here: \n",
        "# https://www.kaggle.com/avikpaul4u/vehicle-loan-default-prediction\n",
        "!kaggle datasets download -d avikpaul4u/vehicle-loan-default-prediction\n",
        "!unzip vehicle-loan-default-prediction.zip\n",
        "# https://www.kaggle.com/uciml/red-wine-quality-cortez-et-al-2009\n",
        "!kaggle datasets download -d uciml/red-wine-quality-cortez-et-al-2009\n",
        "!unzip red-wine-quality-cortez-et-al-2009.zip\n",
        "\n",
        "!kaggle datasets download -d artemkorottchenko/large-boatyacht-pricing-dataset\n",
        "!unzip large-boatyacht-pricing-dataset.zip\n",
        "\n",
        "# Upon running, need to \"CHOOSE FILE\" in Documents/Kaggle.JSON"
      ],
      "metadata": {
        "id": "-REW_57hRE2T",
        "outputId": "baa7e8e1-25e6-4165-a45c-b34e2e221be6",
        "colab": {
          "resources": {
            "http://localhost:8080/nbextensions/google.colab/files.js": {
              "data": "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",
              "ok": true,
              "headers": [
                [
                  "content-type",
                  "application/javascript"
                ]
              ],
              "status": 200,
              "status_text": ""
            }
          },
          "base_uri": "https://localhost:8080/",
          "height": 384
        }
      },
      "execution_count": 1,
      "outputs": [
        {
          "output_type": "display_data",
          "data": {
            "text/plain": [
              "<IPython.core.display.HTML object>"
            ],
            "text/html": [
              "\n",
              "     <input type=\"file\" id=\"files-b4ae0760-f97e-4ab6-bde7-e95d34028e35\" name=\"files[]\" multiple disabled\n",
              "        style=\"border:none\" />\n",
              "     <output id=\"result-b4ae0760-f97e-4ab6-bde7-e95d34028e35\">\n",
              "      Upload widget is only available when the cell has been executed in the\n",
              "      current browser session. Please rerun this cell to enable.\n",
              "      </output>\n",
              "      <script src=\"/nbextensions/google.colab/files.js\"></script> "
            ]
          },
          "metadata": {}
        },
        {
          "output_type": "stream",
          "name": "stdout",
          "text": [
            "Saving kaggle.json to kaggle.json\n",
            "Downloading vehicle-loan-default-prediction.zip to /content\n",
            " 86% 10.0M/11.6M [00:00<00:00, 101MB/s]\n",
            "100% 11.6M/11.6M [00:00<00:00, 111MB/s]\n",
            "Archive:  vehicle-loan-default-prediction.zip\n",
            "  inflating: Data Dictionary.xlsx    \n",
            "  inflating: test.csv                \n",
            "  inflating: train.csv               \n",
            "Downloading red-wine-quality-cortez-et-al-2009.zip to /content\n",
            "  0% 0.00/25.6k [00:00<?, ?B/s]\n",
            "100% 25.6k/25.6k [00:00<00:00, 20.5MB/s]\n",
            "Archive:  red-wine-quality-cortez-et-al-2009.zip\n",
            "  inflating: winequality-red.csv     \n",
            "Downloading large-boatyacht-pricing-dataset.zip to /content\n",
            "  0% 0.00/6.22M [00:00<?, ?B/s]\n",
            "100% 6.22M/6.22M [00:00<00:00, 221MB/s]\n",
            "Archive:  large-boatyacht-pricing-dataset.zip\n",
            "  inflating: boat_dataset.csv        \n"
          ]
        }
      ]
    },
    {
      "cell_type": "code",
      "source": [
        "7+3"
      ],
      "metadata": {
        "id": "Nw2vP0XqUR7D",
        "colab": {
          "base_uri": "https://localhost:8080/"
        },
        "outputId": "fa62054d-2fb4-4ca8-f982-9f7b737b37a2"
      },
      "execution_count": null,
      "outputs": [
        {
          "output_type": "execute_result",
          "data": {
            "text/plain": [
              "10"
            ]
          },
          "metadata": {},
          "execution_count": 1
        }
      ]
    },
    {
      "cell_type": "code",
      "source": [
        "#Python is a calculator\n",
        "7+3\n",
        "#It always only outputs the result of the LAST calculation\n",
        "8*2"
      ],
      "metadata": {
        "colab": {
          "base_uri": "https://localhost:8080/"
        },
        "id": "iUXg9bfIVtM4",
        "outputId": "948256f6-d5ec-4e47-9667-3954711d120f"
      },
      "execution_count": null,
      "outputs": [
        {
          "output_type": "execute_result",
          "data": {
            "text/plain": [
              "16"
            ]
          },
          "metadata": {},
          "execution_count": 6
        }
      ]
    },
    {
      "cell_type": "code",
      "source": [
        "21**2 # Exponential\n",
        "21^2 # Exponential\n",
        "21%2 # Modulo - Geteilt durch 2 + was ist der Rest --> Modulo ist der Rest; e.g. 23%3 = 23/3 --> Modulo = Rest 2?\n"
      ],
      "metadata": {
        "colab": {
          "base_uri": "https://localhost:8080/"
        },
        "id": "gWgRjakMWDvw",
        "outputId": "ea82e26d-1ec6-409d-88fb-7d8b215363a6"
      },
      "execution_count": null,
      "outputs": [
        {
          "output_type": "execute_result",
          "data": {
            "text/plain": [
              "1"
            ]
          },
          "metadata": {},
          "execution_count": 9
        }
      ]
    },
    {
      "cell_type": "code",
      "source": [
        "#Assign a number to an OBJECT (variable / constant)\n",
        "obj_G = 2 # Assign value 2 to object \"obj_G\" by using \"=\" / equal sign\n",
        "print(obj_G)  "
      ],
      "metadata": {
        "colab": {
          "base_uri": "https://localhost:8080/"
        },
        "id": "FnugRz2tWQ6Y",
        "outputId": "78636fc0-33ab-4aaf-8137-663dd45cf5f4"
      },
      "execution_count": null,
      "outputs": [
        {
          "output_type": "stream",
          "name": "stdout",
          "text": [
            "2\n"
          ]
        }
      ]
    },
    {
      "cell_type": "code",
      "source": [
        "#Boolean\n",
        "obj_G == 1 # Logical test: is obj_G = 1? NO, as above it was stated that it is 2!\n",
        "!= is NOT EQUAL"
      ],
      "metadata": {
        "colab": {
          "base_uri": "https://localhost:8080/"
        },
        "id": "xxVX5n_3W2ZN",
        "outputId": "c9ca5412-c4e3-4e11-f19e-46508fdde0ec"
      },
      "execution_count": null,
      "outputs": [
        {
          "output_type": "execute_result",
          "data": {
            "text/plain": [
              "False"
            ]
          },
          "metadata": {},
          "execution_count": 18
        }
      ]
    },
    {
      "cell_type": "code",
      "source": [
        "#Other Logical operators\n",
        "obj_G >= 3\n",
        "obj_G <= 2\n",
        "obj_G < 1"
      ],
      "metadata": {
        "colab": {
          "base_uri": "https://localhost:8080/"
        },
        "id": "Ne_xnx82XFmX",
        "outputId": "95eb39d9-3c3d-406a-e2db-c0a40068d692"
      },
      "execution_count": null,
      "outputs": [
        {
          "output_type": "execute_result",
          "data": {
            "text/plain": [
              "False"
            ]
          },
          "metadata": {},
          "execution_count": 21
        }
      ]
    },
    {
      "cell_type": "code",
      "source": [
        "#SAS is NOT case-sensitive --> Caps / lower characters DO NOT MATTER\n",
        "#Python IS case-sensitive! Beautiful =/ BeAuTiFuL ! Need to be very careful!\n",
        "Beautiful = 1 #Declare\n",
        "BeAuTiFuL = 2 #Declare\n",
        "Beautiful == BeAuTiFuL #Logical test --> False!"
      ],
      "metadata": {
        "colab": {
          "base_uri": "https://localhost:8080/"
        },
        "id": "c-w4dy9dXT9r",
        "outputId": "ba22024d-34dd-4234-9e1d-f62bc2742e49"
      },
      "execution_count": null,
      "outputs": [
        {
          "output_type": "execute_result",
          "data": {
            "text/plain": [
              "False"
            ]
          },
          "metadata": {},
          "execution_count": 24
        }
      ]
    },
    {
      "cell_type": "code",
      "source": [
        "#Data Types\n",
        "#1) LISTS - Objects defined in square brackets [] = Array! Held values need to be defined in double apostrophes!\n",
        "Cities = [\"Paris\", \"Zurich\", \"Rome\",\"Berlin\"]\n",
        "\"London\" in Cities #Check if String \"London\" is part of the defined list/array\n",
        "\"London\" not in Cities\n",
        "print(Cities) #Display list contents\n",
        "type(Cities) #Check Data type of the Object!\n",
        "\n",
        "#Access values within a list - First entry in a list is always location 0! Python is 0 based!\n",
        "Cities [0] # will access/select the first entry within a list.\n",
        "Cities [-1] # counts backwards, i.e. always shows the LAST entry of a list\n",
        "\n",
        "# List value substitution\n",
        "Cities[-1] = \"Milan\" # substitute values within a list\n",
        "print(Cities) \n",
        "\n",
        "# List value insertion\n",
        "Cities.insert(2, \"Hong Kong\") # extends list with a new value at designated location\n",
        "print(Cities)\n",
        "\n",
        "# List value append\n",
        "Cities.append(\"Rio de Janeiro\") # appends a new value --> per default always BY THE END!\n",
        "print(Cities)\n",
        "\n",
        "# List value removal/deletion\n",
        "Cities.remove(\"Paris\") # deletes the FIRST string of a list! \n",
        "print(Cities)\n",
        "\n",
        "# Insertion of numerical values into a list\n",
        "Cities.insert(2, 100) #100 is numerical, \"100\" if you want it to be a string\n",
        "print(Cities)\n",
        "\n",
        "# KEY: Lists can hold ANY type of value - SICK!\n",
        "type(Cities[2]) #can tell you the format/data type of an object within a list by providing the relative position in the list: position [2] = 100 = int (for integer); [3] = str (for string)\n",
        "\n",
        "# Index position of list values\n",
        "Cities.index(\"Milan\") # position = 4, which is the fifth value (as Python is 0 based)\n",
        "\n",
        "# Concatenation of lists by using the + operator\n",
        "New_list = [1,3,5,2]\n",
        "Cities2 = Cities + New_list # Concatenate x number of lists by \"+\"\n",
        "print(Cities2)\n",
        "\n",
        "# Note: lists are defined by square brackets [] --> these values can be targeted and swapped, extended, changed etc.\n",
        "# Note: lists can be also be defined by regular brackets () --> these are called \"tuples\" and its values CANNOT change! Don't use it, as less flexible"
      ],
      "metadata": {
        "id": "kD4tM6paX_O6",
        "outputId": "327f3153-647a-430a-bee9-18d8dad1aac6",
        "colab": {
          "base_uri": "https://localhost:8080/"
        }
      },
      "execution_count": null,
      "outputs": [
        {
          "output_type": "stream",
          "name": "stdout",
          "text": [
            "['Paris', 'Zurich', 'Rome', 'Berlin']\n",
            "['Paris', 'Zurich', 'Rome', 'Milan']\n",
            "['Paris', 'Zurich', 'Hong Kong', 'Rome', 'Milan']\n",
            "['Paris', 'Zurich', 'Hong Kong', 'Rome', 'Milan', 'Rio de Janeiro']\n",
            "['Zurich', 'Hong Kong', 'Rome', 'Milan', 'Rio de Janeiro']\n",
            "['Zurich', 'Hong Kong', 100, 'Rome', 'Milan', 'Rio de Janeiro']\n",
            "['Zurich', 'Hong Kong', 100, 'Rome', 'Milan', 'Rio de Janeiro', 1, 3, 5, 2]\n"
          ]
        }
      ]
    },
    {
      "cell_type": "code",
      "source": [
        "# Conditions\n",
        "\n",
        "val = -11 # can also hold calculations; e.g. 0-11 = -11\n",
        "\n",
        "if val > 0: # colon is basically \"then\"\n",
        "  print('The value is positive')\n",
        "\n",
        "elif val < 0: # elif = else if\n",
        "  print('The value is negative')\n",
        "\n",
        "elif val < -10:\n",
        "  print('Very low')\n",
        "\n",
        "else: # final if condition with else\n",
        "  print('The value equals 0')\n",
        "\n",
        "# KEY: Python will only output the FIRST condition that is met. I.e. -11 will trigger 'The value is negative' --> not jump to 'Very low' as already satisfied\n"
      ],
      "metadata": {
        "id": "LPo2QD8Sdiin",
        "outputId": "145757ea-b01b-4e42-d501-0c4d5cdd1cc8",
        "colab": {
          "base_uri": "https://localhost:8080/"
        }
      },
      "execution_count": null,
      "outputs": [
        {
          "output_type": "stream",
          "name": "stdout",
          "text": [
            "The value is negative\n"
          ]
        }
      ]
    },
    {
      "cell_type": "code",
      "source": [
        "# Need to take into account the ORDER of conditions to not stop and produce a wrong output!\n",
        "# CASE when with nested if conditions does exist too! Preference to use this as it could avoid reordering issues!!!\n",
        "\n",
        "val = -11 # can also hold calculations; e.g. 0-11 = -11\n",
        "\n",
        "if val > 0: # colon is basically \"then\"\n",
        "  print('The value is positive')\n",
        "\n",
        "elif val < -10:\n",
        "  print('Very low')\n",
        "\n",
        "elif val < 0: # elif = else if\n",
        "  print('The value is negative')\n",
        "\n",
        "else: # final if condition with else\n",
        "  print('The value equals 0')\n"
      ],
      "metadata": {
        "id": "_WtZqN_2eomg",
        "outputId": "8bd7992a-630d-4bd8-cc1e-b1eeab6dca3c",
        "colab": {
          "base_uri": "https://localhost:8080/"
        }
      },
      "execution_count": null,
      "outputs": [
        {
          "output_type": "stream",
          "name": "stdout",
          "text": [
            "Very low\n"
          ]
        }
      ]
    },
    {
      "cell_type": "code",
      "source": [
        "# Logical expressions for if:\n",
        "# a == b: is a equal to b\n",
        "# a != b: is a different from b\n",
        "# a <= b: is a lower or equal than b\n",
        "# a >= b: is a greater or equal than b\n",
        "# a < b: is a strictly lower than b\n",
        "# a > b: is a strictly greater than b\n",
        "# a is b: is a the same object as b\n",
        "# condition_a and condition_b: logical AND\n",
        "# condition_a or condition_b: logical OR\n",
        "# not: negation"
      ],
      "metadata": {
        "id": "3WQyjn2afTes"
      },
      "execution_count": null,
      "outputs": []
    },
    {
      "cell_type": "code",
      "source": [
        "# FOR LOOP\n",
        "\n",
        "fruits = ['apple', 'pear', 'cherry']\n",
        "for element in fruits: # colon : is equal to \"then\"\n",
        "  # print(fruits) # print exact contents\n",
        "  print(element) # an element is every object within a list\n",
        "\n",
        "# NESTED LOOPS (Loops within loops)\n",
        "\n",
        "list_of_list = [['a', 'b', 'c'], [1,2,3]] # this list consists of TWO Elements! Both element contents in brackets and separated by a comma\n",
        "# print(list_of_list)\n",
        "\n",
        "for sub_list in list_of_list:\n",
        "  print(\"We treat the list: \", sub_list)\n",
        "\n",
        "  for element in sub_list:\n",
        "    print('We display the element: ', element)"
      ],
      "metadata": {
        "id": "Fj1DZ_Jdf99D",
        "outputId": "c62e84dc-a76b-4c76-a136-46994f401184",
        "colab": {
          "base_uri": "https://localhost:8080/"
        }
      },
      "execution_count": null,
      "outputs": [
        {
          "output_type": "stream",
          "name": "stdout",
          "text": [
            "apple\n",
            "pear\n",
            "cherry\n",
            "We treat the list:  ['a', 'b', 'c']\n",
            "We display the element:  a\n",
            "We display the element:  b\n",
            "We display the element:  c\n",
            "We treat the list:  [1, 2, 3]\n",
            "We display the element:  1\n",
            "We display the element:  2\n",
            "We display the element:  3\n"
          ]
        }
      ]
    },
    {
      "cell_type": "code",
      "source": [
        "fruits = ['apple', 'pear', 'cherry']\n",
        "for i in fruits: # colon : is equal to \"then\"\n",
        "  i = 'banana'\n",
        "  print(i) \n",
        "\n",
        "  #"
      ],
      "metadata": {
        "id": "sp763vvrg0VE",
        "outputId": "d30314df-d830-4cf9-b6ee-920add506877",
        "colab": {
          "base_uri": "https://localhost:8080/"
        }
      },
      "execution_count": null,
      "outputs": [
        {
          "output_type": "stream",
          "name": "stdout",
          "text": [
            "banana\n",
            "banana\n",
            "banana\n"
          ]
        }
      ]
    },
    {
      "cell_type": "code",
      "source": [
        "# KEY: Need to be really careful of indents!\n",
        "# KEY: Indent (ONLY EVER 1) determines nesting level\n",
        "\n",
        "list_of_list = [['a', 'b', 'c'], [1,2,3]] # this list consists of TWO Elements! Both element contents in brackets and separated by a comma\n",
        "# print(list_of_list)\n",
        "\n",
        "for sub_list in list_of_list: #no indent # sub_list = subject\n",
        "  print(\"We treat the list: \", sub_list)\n",
        "\n",
        "  for element in sub_list: #indent 1 tab --> first nesting level\n",
        "    print('We display the element: ', element)\n",
        "\n",
        "\n",
        "\n",
        "\n",
        "# Note: Other type of loops: WHILE LOOPS"
      ],
      "metadata": {
        "id": "VslDyquSiEzt",
        "outputId": "77a410a5-e996-4b97-9ea5-4fdbb3b0be44",
        "colab": {
          "base_uri": "https://localhost:8080/"
        }
      },
      "execution_count": null,
      "outputs": [
        {
          "output_type": "stream",
          "name": "stdout",
          "text": [
            "We treat the list:  ['a', 'b', 'c']\n",
            "We display the element:  a\n",
            "We display the element:  b\n",
            "We display the element:  c\n",
            "We treat the list:  [1, 2, 3]\n",
            "We display the element:  1\n",
            "We display the element:  2\n",
            "We display the element:  3\n"
          ]
        }
      ]
    },
    {
      "cell_type": "code",
      "source": [
        "# FUNCTIONS\n",
        "\n",
        "# E.g. .append / .insert etc. are built-in functions\n",
        "# Python requires functions to perform basic actions - like importing a .csv file - these functions are located within \"packages\"/part of \"libraries\"\n",
        "# We need to call these libraries of functions --> don't have to write these functions ourselves! Just call them with a single line of code\n",
        "# Writing my own functions only ever comes up for very specific requirements / for which no libraries/function packages exist\n",
        "\n",
        "#Functions are objects themselves\n",
        "#Variables as part of a function do NOT exist outside of the function!\n",
        "\n",
        "#Functions start with \"def\" --> \"define\"\n",
        "#Then comes the name of the function\n",
        "#In parentheses, state the variables of the function, e.g. a/b/c, length/width etc.\n",
        "#Optional variables to a function: declare variable = None, for example: a, b=None --> can still use the function and assign a value to b, but function will work without it!\n",
        "\n",
        "\n",
        "def awesome_dominik_function_to_calculate_area(a, b):\n",
        "  '''\n",
        "  Function to calculate the area of a rectangle\n",
        "  \n",
        "  Parameters:\n",
        "  a = length\n",
        "  b = width\n",
        "  '''\n",
        "  \n",
        "  # three ''' create lines which can hold descriptions, e.g. the purpose of the function! Useful documentation!\n",
        "\n",
        "  my_area = a*b\n",
        "\n",
        "  return my_area # be careful of indents!\n"
      ],
      "metadata": {
        "id": "n96ggaj3jSkv"
      },
      "execution_count": null,
      "outputs": []
    },
    {
      "cell_type": "code",
      "source": [
        "# Create an object which holds the result of the function + print the output\n",
        "\n",
        "area1 = awesome_dominik_function_to_calculate_area(10,8)\n",
        "print(area1)\n",
        "\n",
        "area2 = awesome_dominik_function_to_calculate_area(85, 91)\n",
        "print(area2)\n",
        "\n",
        "area3 = area2 - area1\n",
        "print(area3)\n",
        "type(area3)"
      ],
      "metadata": {
        "id": "ASnBBPnEmLtZ",
        "outputId": "a3982ec5-e7ec-4b29-ff36-0db54d610921",
        "colab": {
          "base_uri": "https://localhost:8080/"
        }
      },
      "execution_count": null,
      "outputs": [
        {
          "output_type": "stream",
          "name": "stdout",
          "text": [
            "80\n",
            "7735\n",
            "7655\n"
          ]
        },
        {
          "output_type": "execute_result",
          "data": {
            "text/plain": [
              "int"
            ]
          },
          "metadata": {},
          "execution_count": 101
        }
      ]
    },
    {
      "cell_type": "code",
      "source": [
        "# Remove identical values from a list with a loop\n",
        "# List comprehension\n",
        "\n",
        "last_list = [0, 1, 2, 3, 4, 5, 888, 6, 7, 888, 8, 888, 9] # let us delete all the 888's\n",
        "print(last_list)\n",
        "# Define value to be deleted\n",
        "valueToBeRemoved = 888\n",
        "\n",
        "last_list2 = last_list\n",
        "# Loop through entire list to only retain values which are DIFFERENT to valueToBeRemoved\n",
        "# Entirely depends on the operator: != only where NOT 888 whereas == only where IS 888\n",
        "last_list = [value for value in last_list if value != valueToBeRemoved]\n",
        "print(last_list)\n",
        "\n",
        "last_list2 = [value for value in last_list2 if value == valueToBeRemoved]\n",
        "print(last_list2)"
      ],
      "metadata": {
        "id": "h-xBBVu1nfrA",
        "outputId": "ea0de1b0-1231-4070-9588-0882ff0b93b3",
        "colab": {
          "base_uri": "https://localhost:8080/"
        }
      },
      "execution_count": null,
      "outputs": [
        {
          "output_type": "stream",
          "name": "stdout",
          "text": [
            "[0, 1, 2, 3, 4, 5, 888, 6, 7, 888, 8, 888, 9]\n",
            "[0, 1, 2, 3, 4, 5, 6, 7, 8, 9]\n",
            "[888, 888, 888]\n"
          ]
        }
      ]
    },
    {
      "cell_type": "code",
      "source": [
        "# Data Science Academy (Advanced) - Session 3/7"
      ],
      "metadata": {
        "id": "O4Gf2KxrPm7V"
      },
      "execution_count": null,
      "outputs": []
    },
    {
      "cell_type": "code",
      "source": [
        "# Run everytime I log into Colab --> needed to pull files from Kaggle!\n",
        "\n",
        "!pip install -q kaggle\n",
        "from google.colab import files\n",
        "files.upload()\n",
        "#create a kaggle folder\n",
        "!mkdir ~/.kaggle\n",
        "# Go on kaggle > Account > Create New API token\n",
        "# Save the json file in your laptop in a dedicated folder\n",
        "# copy the kaggle.json to folder created\n",
        "!cp kaggle.json ~/.kaggle\n",
        "#permission for the json to act\n",
        "!chmod 600 ~/.kaggle/kaggle.json\n",
        "# Datasets available here: \n",
        "# https://www.kaggle.com/avikpaul4u/vehicle-loan-default-prediction\n",
        "!kaggle datasets download -d avikpaul4u/vehicle-loan-default-prediction\n",
        "!unzip vehicle-loan-default-prediction.zip\n",
        "# https://www.kaggle.com/uciml/red-wine-quality-cortez-et-al-2009\n",
        "!kaggle datasets download -d uciml/red-wine-quality-cortez-et-al-2009\n",
        "!unzip red-wine-quality-cortez-et-al-2009.zip\n",
        "\n",
        "!kaggle datasets download -d artemkorottchenko/large-boatyacht-pricing-dataset\n",
        "!unzip large-boatyacht-pricing-dataset.zip\n",
        "\n",
        "# Upon running, need to \"CHOOSE FILE\" in Documents/Kaggle.JSON"
      ],
      "metadata": {
        "id": "Ti8wlhdRRi2-"
      },
      "execution_count": null,
      "outputs": []
    },
    {
      "cell_type": "code",
      "source": [
        "# Need to run the above Kaggle.json import procedure first!\n",
        "# Script below makes the source data more complex --> introduce more problems!\n",
        "\n",
        "import pandas as pd # package import - library to manipulate databases\n",
        "import io\n",
        "import numpy as np # package import - library to manipulate numbers written in C\n",
        "pd.options.display.max_columns = 100\n",
        "pd.options.display.max_rows = 50\n",
        "\n",
        "df = pd.read_csv(io.StringIO(open('/content/boat_dataset.csv', 'rb').read().decode('utf-8', errors='ignore')), sep=\",\")\n",
        "\n",
        "## Add element in the database for EDUCATIONAL PURPOSE ONLY\n",
        "# Add random date in order to do a proper temporal split\n",
        "df['Advertisement Date'] = pd.to_datetime(df['Advertisement Date'], format='%d.%m.%Y')\n",
        "#Here is a function that will automatically create a feature of random dates between a defined interval\n",
        "def random_datetimes_or_dates(start, end, out_format='datetime', n=10): \n",
        "\n",
        "    '''   \n",
        "    unix timestamp is in ns by default. \n",
        "    I divide the unix time value by 10**9 to make it seconds \n",
        "    (or 24*60*60*10**9 to make it days).\n",
        "    The corresponding unit variable is passed to \n",
        "    the pd.to_datetime function. \n",
        "    Values for the (divide_by, unit) pair to select is defined by \n",
        "    the out_format parameter.\n",
        "    for 1 -> out_format='datetime'\n",
        "    for 2 -> out_format=anything else\n",
        "    '''\n",
        "    (divide_by, unit) = (10**9, 's') if out_format=='datetime' else (24*60*60*10**9, 'D')\n",
        "\n",
        "    start_u = start.value//divide_by\n",
        "    end_u = end.value//divide_by\n",
        "\n",
        "    return pd.to_datetime(np.random.randint(start_u, end_u, n), unit=unit)\n",
        "\n",
        "\n",
        "np.random.seed(893717398)\n",
        "# Set parameters\n",
        "d_start = pd.to_datetime('2020-01-01')\n",
        "d_end = pd.to_datetime('2021-12-31')\n",
        "\n",
        "# Delete initial Advertisement Date -> if you want to keep the inital dates, don't run it\n",
        "df.drop(columns=['Advertisement Date'], inplace=True)\n",
        "\n",
        "# Run function\n",
        "df['Advertisement Date'] = random_datetimes_or_dates(d_start, d_end, out_format='datetime', n=len(df))\n",
        "\n",
        "# Keep the date and remove the time\n",
        "df['Advertisement Date']= df['Advertisement Date'].dt.date\n",
        "\n",
        "# Parse the date\n",
        "df['Advertisement Date'] = pd.to_datetime(df['Advertisement Date'], format='%Y-%m-%d')\n",
        "\n",
        "# Impute Advertissement Date by the the created one when they are missing\n",
        "#df['Advertisement Date'] = np.where(df['Advertisement Date'].isna(), df['date2'], df['Advertisement Date'])\n",
        "\n",
        "# Delete the random date created\n",
        "#df.drop(columns=['date2'], inplace=True)\n",
        "\n",
        "# Create duplicates\n",
        "temp = df.sample(n=500, random_state=893717398)\n",
        "df = df.append(temp)\n",
        "del(temp)\n",
        "df.reset_index(drop=True, inplace=True)\n",
        "\n",
        "df['Advertisement Date'] = df['Advertisement Date'].astype(str)\n"
      ],
      "metadata": {
        "id": "egrU5tIbPtbL"
      },
      "execution_count": 2,
      "outputs": []
    },
    {
      "cell_type": "code",
      "source": [
        "# Display entries of the imported database called df\n",
        "\n",
        "df.head(10) #specifies how many rows to show with header being 1 row\n",
        "df.head() #per default shows 5 rows - header = 1 + 4 content rows\n"
      ],
      "metadata": {
        "id": "CMfowU_SReQJ",
        "outputId": "2425096e-7eca-49b4-9c20-f20e4303b027",
        "colab": {
          "base_uri": "https://localhost:8080/",
          "height": 597
        }
      },
      "execution_count": 7,
      "outputs": [
        {
          "output_type": "execute_result",
          "data": {
            "text/plain": [
              "          Price     Category            Boat Type          Manufacturer  \\\n",
              "0   CHF 3.337,-  Power Boats          Motor Yacht  Rigiflex power boats   \n",
              "1   EUR 3.490,-  Power Boats  Center console boat     Terhi power boats   \n",
              "2   CHF 3.770,-  Power Boats           Sport Boat    Marine power boats   \n",
              "3  DKK 25.900,-  Power Boats           Sport Boat    Pioner power boats   \n",
              "4  SEK 35.000,-  Power Boats              Classic                   NaN   \n",
              "\n",
              "                        Model Boat name                 Type  Year Built  \\\n",
              "0                     CAP 400       NaN  new boat from stock      2017.0   \n",
              "1                       400 C       NaN  new boat from stock      2020.0   \n",
              "2             370 S - Aluboot       NaN  new boat from stock         NaN   \n",
              "3  10 Classic Special Edition       NaN  new boat from stock      2020.0   \n",
              "4          Gullholmensnipa 21       NaN            Used boat      1974.0   \n",
              "\n",
              "  Condition  Length   Width   Depth Displacement CE Design Category  \\\n",
              "0    as new  4.00 m  1.90 m     NaN          NaN                NaN   \n",
              "1       new  4.00 m  1.50 m     NaN       150 kg                NaN   \n",
              "2       NaN  3.69 m  1.42 m  0.25 m          NaN                NaN   \n",
              "3       NaN  3.00 m  1.00 m     NaN       110 kg                NaN   \n",
              "4      good  6.30 m  2.50 m  0.75 m     2'000 kg                NaN   \n",
              "\n",
              "   Cert Number of People  Number of Cabins  Number of beds Hull Color  \\\n",
              "0                    7.0               NaN             NaN      white   \n",
              "1                    NaN               NaN             NaN        NaN   \n",
              "2                    4.0               NaN             NaN        NaN   \n",
              "3                    NaN               NaN             NaN        NaN   \n",
              "4                    NaN               NaN             2.0        NaN   \n",
              "\n",
              "   Number of Toilets  Number of Bathrooms  Number of Showers       Material  \\\n",
              "0                NaN                  NaN                NaN            NaN   \n",
              "1                NaN                  NaN                NaN  Thermoplastic   \n",
              "2                NaN                  NaN                NaN      Aluminium   \n",
              "3                NaN                  NaN                NaN            NaN   \n",
              "4                NaN                  NaN                NaN            NaN   \n",
              "\n",
              "  Fresh Water Cap Holding Tank          Propulsion  \\\n",
              "0             NaN          NaN                 NaN   \n",
              "1             NaN          NaN                 NaN   \n",
              "2             NaN          NaN                 NaN   \n",
              "3             NaN          NaN                 NaN   \n",
              "4             NaN          NaN  Inboard with Shaft   \n",
              "\n",
              "                                Engine Engine Performance Fuel Capacity  \\\n",
              "0                                  NaN                NaN           NaN   \n",
              "1                                  NaN                NaN           NaN   \n",
              "2   (Permission for Lake of Constance)                NaN           NaN   \n",
              "3                                  NaN                NaN           NaN   \n",
              "4                   VolvoPenta MD 2002  1 x 18 HP / 13 kW          50 l   \n",
              "\n",
              "  Fuel Type Engine Hours Max Speed Cruising Speed  \\\n",
              "0       NaN          NaN       NaN            NaN   \n",
              "1       NaN          NaN       NaN            NaN   \n",
              "2       NaN          NaN       NaN            NaN   \n",
              "3       NaN          NaN       NaN            NaN   \n",
              "4       NaN        500 h       NaN            NaN   \n",
              "\n",
              "                                  Location Number of views last 7 days  \\\n",
              "0      Switzerland » Lake Geneva » Vésenaz                         226   \n",
              "1                   Germany » Bönningstedt                          75   \n",
              "2  Switzerland » Lake of Zurich » Stäfa ZH                         124   \n",
              "3                      Denmark » Svendborg                          64   \n",
              "4                Nordsee » Västra Frölunda                         131   \n",
              "\n",
              "                                            Comments  \\\n",
              "0                                                NaN   \n",
              "1  In den Farben weiß oder grün lieferbar.,,2 abs...   \n",
              "2                                                NaN   \n",
              "3  MORSOM OG LETKØRT KVALITETSBÅD!,Nye Pioner 10 ...   \n",
              "4                                                NaN   \n",
              "\n",
              "                                 Additional Comments  \\\n",
              "0  Possibility to arrange it with a complete luxu...   \n",
              "1                                                NaN   \n",
              "2  The lightweight and sleek rowing boat for 4 pe...   \n",
              "3                                                NaN   \n",
              "4                                                NaN   \n",
              "\n",
              "                                           Equipment Advertisement Date  \n",
              "0                                                NaN         2021-08-11  \n",
              "1                                                NaN         2020-08-19  \n",
              "2                                                NaN         2021-01-06  \n",
              "3                                                NaN         2020-08-01  \n",
              "4  Anchor,Battery,Bilge Pump,Bilge pump,Cockpit C...         2021-05-05  "
            ],
            "text/html": [
              "\n",
              "  <div id=\"df-cc38b8a6-7f89-4c64-b7b9-ee05803acd54\">\n",
              "    <div class=\"colab-df-container\">\n",
              "      <div>\n",
              "<style scoped>\n",
              "    .dataframe tbody tr th:only-of-type {\n",
              "        vertical-align: middle;\n",
              "    }\n",
              "\n",
              "    .dataframe tbody tr th {\n",
              "        vertical-align: top;\n",
              "    }\n",
              "\n",
              "    .dataframe thead th {\n",
              "        text-align: right;\n",
              "    }\n",
              "</style>\n",
              "<table border=\"1\" class=\"dataframe\">\n",
              "  <thead>\n",
              "    <tr style=\"text-align: right;\">\n",
              "      <th></th>\n",
              "      <th>Price</th>\n",
              "      <th>Category</th>\n",
              "      <th>Boat Type</th>\n",
              "      <th>Manufacturer</th>\n",
              "      <th>Model</th>\n",
              "      <th>Boat name</th>\n",
              "      <th>Type</th>\n",
              "      <th>Year Built</th>\n",
              "      <th>Condition</th>\n",
              "      <th>Length</th>\n",
              "      <th>Width</th>\n",
              "      <th>Depth</th>\n",
              "      <th>Displacement</th>\n",
              "      <th>CE Design Category</th>\n",
              "      <th>Cert Number of People</th>\n",
              "      <th>Number of Cabins</th>\n",
              "      <th>Number of beds</th>\n",
              "      <th>Hull Color</th>\n",
              "      <th>Number of Toilets</th>\n",
              "      <th>Number of Bathrooms</th>\n",
              "      <th>Number of Showers</th>\n",
              "      <th>Material</th>\n",
              "      <th>Fresh Water Cap</th>\n",
              "      <th>Holding Tank</th>\n",
              "      <th>Propulsion</th>\n",
              "      <th>Engine</th>\n",
              "      <th>Engine Performance</th>\n",
              "      <th>Fuel Capacity</th>\n",
              "      <th>Fuel Type</th>\n",
              "      <th>Engine Hours</th>\n",
              "      <th>Max Speed</th>\n",
              "      <th>Cruising Speed</th>\n",
              "      <th>Location</th>\n",
              "      <th>Number of views last 7 days</th>\n",
              "      <th>Comments</th>\n",
              "      <th>Additional Comments</th>\n",
              "      <th>Equipment</th>\n",
              "      <th>Advertisement Date</th>\n",
              "    </tr>\n",
              "  </thead>\n",
              "  <tbody>\n",
              "    <tr>\n",
              "      <th>0</th>\n",
              "      <td>CHF 3.337,-</td>\n",
              "      <td>Power Boats</td>\n",
              "      <td>Motor Yacht</td>\n",
              "      <td>Rigiflex power boats</td>\n",
              "      <td>CAP 400</td>\n",
              "      <td>NaN</td>\n",
              "      <td>new boat from stock</td>\n",
              "      <td>2017.0</td>\n",
              "      <td>as new</td>\n",
              "      <td>4.00 m</td>\n",
              "      <td>1.90 m</td>\n",
              "      <td>NaN</td>\n",
              "      <td>NaN</td>\n",
              "      <td>NaN</td>\n",
              "      <td>7.0</td>\n",
              "      <td>NaN</td>\n",
              "      <td>NaN</td>\n",
              "      <td>white</td>\n",
              "      <td>NaN</td>\n",
              "      <td>NaN</td>\n",
              "      <td>NaN</td>\n",
              "      <td>NaN</td>\n",
              "      <td>NaN</td>\n",
              "      <td>NaN</td>\n",
              "      <td>NaN</td>\n",
              "      <td>NaN</td>\n",
              "      <td>NaN</td>\n",
              "      <td>NaN</td>\n",
              "      <td>NaN</td>\n",
              "      <td>NaN</td>\n",
              "      <td>NaN</td>\n",
              "      <td>NaN</td>\n",
              "      <td>Switzerland » Lake Geneva » Vésenaz</td>\n",
              "      <td>226</td>\n",
              "      <td>NaN</td>\n",
              "      <td>Possibility to arrange it with a complete luxu...</td>\n",
              "      <td>NaN</td>\n",
              "      <td>2021-08-11</td>\n",
              "    </tr>\n",
              "    <tr>\n",
              "      <th>1</th>\n",
              "      <td>EUR 3.490,-</td>\n",
              "      <td>Power Boats</td>\n",
              "      <td>Center console boat</td>\n",
              "      <td>Terhi power boats</td>\n",
              "      <td>400 C</td>\n",
              "      <td>NaN</td>\n",
              "      <td>new boat from stock</td>\n",
              "      <td>2020.0</td>\n",
              "      <td>new</td>\n",
              "      <td>4.00 m</td>\n",
              "      <td>1.50 m</td>\n",
              "      <td>NaN</td>\n",
              "      <td>150 kg</td>\n",
              "      <td>NaN</td>\n",
              "      <td>NaN</td>\n",
              "      <td>NaN</td>\n",
              "      <td>NaN</td>\n",
              "      <td>NaN</td>\n",
              "      <td>NaN</td>\n",
              "      <td>NaN</td>\n",
              "      <td>NaN</td>\n",
              "      <td>Thermoplastic</td>\n",
              "      <td>NaN</td>\n",
              "      <td>NaN</td>\n",
              "      <td>NaN</td>\n",
              "      <td>NaN</td>\n",
              "      <td>NaN</td>\n",
              "      <td>NaN</td>\n",
              "      <td>NaN</td>\n",
              "      <td>NaN</td>\n",
              "      <td>NaN</td>\n",
              "      <td>NaN</td>\n",
              "      <td>Germany » Bönningstedt</td>\n",
              "      <td>75</td>\n",
              "      <td>In den Farben weiß oder grün lieferbar.,,2 abs...</td>\n",
              "      <td>NaN</td>\n",
              "      <td>NaN</td>\n",
              "      <td>2020-08-19</td>\n",
              "    </tr>\n",
              "    <tr>\n",
              "      <th>2</th>\n",
              "      <td>CHF 3.770,-</td>\n",
              "      <td>Power Boats</td>\n",
              "      <td>Sport Boat</td>\n",
              "      <td>Marine power boats</td>\n",
              "      <td>370 S - Aluboot</td>\n",
              "      <td>NaN</td>\n",
              "      <td>new boat from stock</td>\n",
              "      <td>NaN</td>\n",
              "      <td>NaN</td>\n",
              "      <td>3.69 m</td>\n",
              "      <td>1.42 m</td>\n",
              "      <td>0.25 m</td>\n",
              "      <td>NaN</td>\n",
              "      <td>NaN</td>\n",
              "      <td>4.0</td>\n",
              "      <td>NaN</td>\n",
              "      <td>NaN</td>\n",
              "      <td>NaN</td>\n",
              "      <td>NaN</td>\n",
              "      <td>NaN</td>\n",
              "      <td>NaN</td>\n",
              "      <td>Aluminium</td>\n",
              "      <td>NaN</td>\n",
              "      <td>NaN</td>\n",
              "      <td>NaN</td>\n",
              "      <td>(Permission for Lake of Constance)</td>\n",
              "      <td>NaN</td>\n",
              "      <td>NaN</td>\n",
              "      <td>NaN</td>\n",
              "      <td>NaN</td>\n",
              "      <td>NaN</td>\n",
              "      <td>NaN</td>\n",
              "      <td>Switzerland » Lake of Zurich » Stäfa ZH</td>\n",
              "      <td>124</td>\n",
              "      <td>NaN</td>\n",
              "      <td>The lightweight and sleek rowing boat for 4 pe...</td>\n",
              "      <td>NaN</td>\n",
              "      <td>2021-01-06</td>\n",
              "    </tr>\n",
              "    <tr>\n",
              "      <th>3</th>\n",
              "      <td>DKK 25.900,-</td>\n",
              "      <td>Power Boats</td>\n",
              "      <td>Sport Boat</td>\n",
              "      <td>Pioner power boats</td>\n",
              "      <td>10 Classic Special Edition</td>\n",
              "      <td>NaN</td>\n",
              "      <td>new boat from stock</td>\n",
              "      <td>2020.0</td>\n",
              "      <td>NaN</td>\n",
              "      <td>3.00 m</td>\n",
              "      <td>1.00 m</td>\n",
              "      <td>NaN</td>\n",
              "      <td>110 kg</td>\n",
              "      <td>NaN</td>\n",
              "      <td>NaN</td>\n",
              "      <td>NaN</td>\n",
              "      <td>NaN</td>\n",
              "      <td>NaN</td>\n",
              "      <td>NaN</td>\n",
              "      <td>NaN</td>\n",
              "      <td>NaN</td>\n",
              "      <td>NaN</td>\n",
              "      <td>NaN</td>\n",
              "      <td>NaN</td>\n",
              "      <td>NaN</td>\n",
              "      <td>NaN</td>\n",
              "      <td>NaN</td>\n",
              "      <td>NaN</td>\n",
              "      <td>NaN</td>\n",
              "      <td>NaN</td>\n",
              "      <td>NaN</td>\n",
              "      <td>NaN</td>\n",
              "      <td>Denmark » Svendborg</td>\n",
              "      <td>64</td>\n",
              "      <td>MORSOM OG LETKØRT KVALITETSBÅD!,Nye Pioner 10 ...</td>\n",
              "      <td>NaN</td>\n",
              "      <td>NaN</td>\n",
              "      <td>2020-08-01</td>\n",
              "    </tr>\n",
              "    <tr>\n",
              "      <th>4</th>\n",
              "      <td>SEK 35.000,-</td>\n",
              "      <td>Power Boats</td>\n",
              "      <td>Classic</td>\n",
              "      <td>NaN</td>\n",
              "      <td>Gullholmensnipa 21</td>\n",
              "      <td>NaN</td>\n",
              "      <td>Used boat</td>\n",
              "      <td>1974.0</td>\n",
              "      <td>good</td>\n",
              "      <td>6.30 m</td>\n",
              "      <td>2.50 m</td>\n",
              "      <td>0.75 m</td>\n",
              "      <td>2'000 kg</td>\n",
              "      <td>NaN</td>\n",
              "      <td>NaN</td>\n",
              "      <td>NaN</td>\n",
              "      <td>2.0</td>\n",
              "      <td>NaN</td>\n",
              "      <td>NaN</td>\n",
              "      <td>NaN</td>\n",
              "      <td>NaN</td>\n",
              "      <td>NaN</td>\n",
              "      <td>NaN</td>\n",
              "      <td>NaN</td>\n",
              "      <td>Inboard with Shaft</td>\n",
              "      <td>VolvoPenta MD 2002</td>\n",
              "      <td>1 x 18 HP / 13 kW</td>\n",
              "      <td>50 l</td>\n",
              "      <td>NaN</td>\n",
              "      <td>500 h</td>\n",
              "      <td>NaN</td>\n",
              "      <td>NaN</td>\n",
              "      <td>Nordsee » Västra Frölunda</td>\n",
              "      <td>131</td>\n",
              "      <td>NaN</td>\n",
              "      <td>NaN</td>\n",
              "      <td>Anchor,Battery,Bilge Pump,Bilge pump,Cockpit C...</td>\n",
              "      <td>2021-05-05</td>\n",
              "    </tr>\n",
              "  </tbody>\n",
              "</table>\n",
              "</div>\n",
              "      <button class=\"colab-df-convert\" onclick=\"convertToInteractive('df-cc38b8a6-7f89-4c64-b7b9-ee05803acd54')\"\n",
              "              title=\"Convert this dataframe to an interactive table.\"\n",
              "              style=\"display:none;\">\n",
              "        \n",
              "  <svg xmlns=\"http://www.w3.org/2000/svg\" height=\"24px\"viewBox=\"0 0 24 24\"\n",
              "       width=\"24px\">\n",
              "    <path d=\"M0 0h24v24H0V0z\" fill=\"none\"/>\n",
              "    <path d=\"M18.56 5.44l.94 2.06.94-2.06 2.06-.94-2.06-.94-.94-2.06-.94 2.06-2.06.94zm-11 1L8.5 8.5l.94-2.06 2.06-.94-2.06-.94L8.5 2.5l-.94 2.06-2.06.94zm10 10l.94 2.06.94-2.06 2.06-.94-2.06-.94-.94-2.06-.94 2.06-2.06.94z\"/><path d=\"M17.41 7.96l-1.37-1.37c-.4-.4-.92-.59-1.43-.59-.52 0-1.04.2-1.43.59L10.3 9.45l-7.72 7.72c-.78.78-.78 2.05 0 2.83L4 21.41c.39.39.9.59 1.41.59.51 0 1.02-.2 1.41-.59l7.78-7.78 2.81-2.81c.8-.78.8-2.07 0-2.86zM5.41 20L4 18.59l7.72-7.72 1.47 1.35L5.41 20z\"/>\n",
              "  </svg>\n",
              "      </button>\n",
              "      \n",
              "  <style>\n",
              "    .colab-df-container {\n",
              "      display:flex;\n",
              "      flex-wrap:wrap;\n",
              "      gap: 12px;\n",
              "    }\n",
              "\n",
              "    .colab-df-convert {\n",
              "      background-color: #E8F0FE;\n",
              "      border: none;\n",
              "      border-radius: 50%;\n",
              "      cursor: pointer;\n",
              "      display: none;\n",
              "      fill: #1967D2;\n",
              "      height: 32px;\n",
              "      padding: 0 0 0 0;\n",
              "      width: 32px;\n",
              "    }\n",
              "\n",
              "    .colab-df-convert:hover {\n",
              "      background-color: #E2EBFA;\n",
              "      box-shadow: 0px 1px 2px rgba(60, 64, 67, 0.3), 0px 1px 3px 1px rgba(60, 64, 67, 0.15);\n",
              "      fill: #174EA6;\n",
              "    }\n",
              "\n",
              "    [theme=dark] .colab-df-convert {\n",
              "      background-color: #3B4455;\n",
              "      fill: #D2E3FC;\n",
              "    }\n",
              "\n",
              "    [theme=dark] .colab-df-convert:hover {\n",
              "      background-color: #434B5C;\n",
              "      box-shadow: 0px 1px 3px 1px rgba(0, 0, 0, 0.15);\n",
              "      filter: drop-shadow(0px 1px 2px rgba(0, 0, 0, 0.3));\n",
              "      fill: #FFFFFF;\n",
              "    }\n",
              "  </style>\n",
              "\n",
              "      <script>\n",
              "        const buttonEl =\n",
              "          document.querySelector('#df-cc38b8a6-7f89-4c64-b7b9-ee05803acd54 button.colab-df-convert');\n",
              "        buttonEl.style.display =\n",
              "          google.colab.kernel.accessAllowed ? 'block' : 'none';\n",
              "\n",
              "        async function convertToInteractive(key) {\n",
              "          const element = document.querySelector('#df-cc38b8a6-7f89-4c64-b7b9-ee05803acd54');\n",
              "          const dataTable =\n",
              "            await google.colab.kernel.invokeFunction('convertToInteractive',\n",
              "                                                     [key], {});\n",
              "          if (!dataTable) return;\n",
              "\n",
              "          const docLinkHtml = 'Like what you see? Visit the ' +\n",
              "            '<a target=\"_blank\" href=https://colab.research.google.com/notebooks/data_table.ipynb>data table notebook</a>'\n",
              "            + ' to learn more about interactive tables.';\n",
              "          element.innerHTML = '';\n",
              "          dataTable['output_type'] = 'display_data';\n",
              "          await google.colab.output.renderOutput(dataTable, element);\n",
              "          const docLink = document.createElement('div');\n",
              "          docLink.innerHTML = docLinkHtml;\n",
              "          element.appendChild(docLink);\n",
              "        }\n",
              "      </script>\n",
              "    </div>\n",
              "  </div>\n",
              "  "
            ]
          },
          "metadata": {},
          "execution_count": 7
        }
      ]
    },
    {
      "cell_type": "code",
      "source": [
        "# CRUCIAL OVERVIEW FUNCTIONS\n",
        "# Check dimensions of database\n",
        "\n",
        "df.shape\n",
        "\n",
        "# Check types of columns\n",
        "\n",
        "df.dtypes # object = String, float64 = double?\n",
        "# Some numbers are incorrectly identified as object, i.e. string due to , . !\n",
        "# Needs cleaning!\n",
        "\n",
        "# Check Basic Descriptive Statistics of Numerical and Non-Numerical Values\n",
        "\n",
        "df.describe() # Descriptive Statistics, such as Count, Average, Std, Min, Max, Quartiles ONLY for numeric columns!\n",
        "df.describe(include='all') # Descriptive Statistics for ALL columns irrespective of format\n",
        "\n",
        "# Information of generic nature, such as total rows, NULL values, data type\n",
        "\n",
        "df.info()\n",
        "\n"
      ],
      "metadata": {
        "id": "gOcofLt1VImx",
        "outputId": "48d6e629-f282-4683-e4e2-78933b2d9c9a",
        "colab": {
          "base_uri": "https://localhost:8080/"
        }
      },
      "execution_count": 19,
      "outputs": [
        {
          "output_type": "stream",
          "name": "stdout",
          "text": [
            "<class 'pandas.core.frame.DataFrame'>\n",
            "RangeIndex: 10844 entries, 0 to 10843\n",
            "Data columns (total 38 columns):\n",
            " #   Column                       Non-Null Count  Dtype  \n",
            "---  ------                       --------------  -----  \n",
            " 0   Price                        10844 non-null  object \n",
            " 1   Category                     10844 non-null  object \n",
            " 2   Boat Type                    10844 non-null  object \n",
            " 3   Manufacturer                 9393 non-null   object \n",
            " 4   Model                        10841 non-null  object \n",
            " 5   Boat name                    1370 non-null   object \n",
            " 6   Type                         10839 non-null  object \n",
            " 7   Year Built                   10252 non-null  float64\n",
            " 8   Condition                    3540 non-null   object \n",
            " 9   Length                       10834 non-null  object \n",
            " 10  Width                        10779 non-null  object \n",
            " 11  Depth                        7575 non-null   object \n",
            " 12  Displacement                 5298 non-null   object \n",
            " 13  CE Design Category           828 non-null    object \n",
            " 14  Cert Number of People        3773 non-null   float64\n",
            " 15  Number of Cabins             6807 non-null   float64\n",
            " 16  Number of beds               6726 non-null   float64\n",
            " 17  Hull Color                   3472 non-null   object \n",
            " 18  Number of Toilets            2257 non-null   float64\n",
            " 19  Number of Bathrooms          484 non-null    float64\n",
            " 20  Number of Showers            2040 non-null   float64\n",
            " 21  Material                     8902 non-null   object \n",
            " 22  Fresh Water Cap              2222 non-null   object \n",
            " 23  Holding Tank                 861 non-null    object \n",
            " 24  Propulsion                   3433 non-null   object \n",
            " 25  Engine                       10007 non-null  object \n",
            " 26  Engine Performance           8455 non-null   object \n",
            " 27  Fuel Capacity                7137 non-null   object \n",
            " 28  Fuel Type                    8409 non-null   object \n",
            " 29  Engine Hours                 5396 non-null   object \n",
            " 30  Max Speed                    930 non-null    object \n",
            " 31  Cruising Speed               567 non-null    object \n",
            " 32  Location                     10800 non-null  object \n",
            " 33  Number of views last 7 days  10457 non-null  object \n",
            " 34  Comments                     7437 non-null   object \n",
            " 35  Additional Comments          2553 non-null   object \n",
            " 36  Equipment                    6481 non-null   object \n",
            " 37  Advertisement Date           10844 non-null  object \n",
            "dtypes: float64(7), object(31)\n",
            "memory usage: 3.1+ MB\n"
          ]
        }
      ]
    },
    {
      "cell_type": "code",
      "source": [
        "# DATA MANIPULATION IN PYTHON\n",
        "\n",
        "\n",
        "# Open a Database and output a specific column = Vector\n",
        "\n",
        "df['Year Built'].head() # single square brackets\n",
        "\n",
        "# Open a Database and output TWO specific columns = Array\n",
        "\n",
        "df[['Year Built','Model']].head() # TWO square brackets!\n",
        "\n",
        "# Open a Database and output N columns with N >= 2\n",
        "\n",
        "df[['Year Built','Model','Category']].head() # TWO square brackets suffice for more than 2 columns\n",
        "\n",
        "\n",
        "# Selecting specific lines w/ conditions to output Booleans\n",
        "\n",
        "mask1 = df['Year Built'] > 2000 # assign a boolean\n",
        "mask1 # output booleans\n",
        "mask1.dtype # type 'bool'\n",
        "df[mask1].head() # filter dataset with boolean logic\n",
        "df[mask1].min() # check if 'Year Built' is indeed only larger than 2000!\n",
        "\n",
        "# Combine boolean condition AND filter = replaces the extra step with declaring mask1\n",
        "\n",
        "df[df['Year Built'] > 2000].head(3)\n",
        "\n",
        "# Check for the two ways producing the identical output\n",
        "df[mask1] == df[df['Year Built'] > 2000]\n",
        "\n",
        "\n",
        "\n",
        "\n",
        "# Advanced Functions\n",
        "\n",
        "mask2 = df['Year Built'].between(2001,2005, inclusive=\"both\")\n",
        "mask2\n",
        "df[mask2].head(5)\n",
        "df[mask2].describe()\n",
        "\n",
        "# Same as:\n",
        "df[df['Year Built'].between(2001,2005, inclusive=\"both\")].head(5)\n",
        "\n",
        "# Select X columns to show after filtered condition\n",
        "df[mask2]['Category'].head(2)\n",
        "df[mask2][['Category','Fuel Type']]\n",
        "\n",
        "\n",
        "\n",
        "\n",
        "# Complex Conditions\n",
        "\n",
        "# & --> AND\n",
        "# | --> OR\n",
        "\n",
        "# Beware of where to set brackets! Same priority and logic as in SQL / SAS\n",
        "\n",
        "mask3 = ((df['Year Built'] <= 2001) | (df['Year Built'] >= 2011)) & (df['Number of Cabins'] <= 2) \n",
        "df[mask3].head()\n",
        "df[mask3].describe()\n",
        "\n",
        "# Same as:\n",
        "df[((df['Year Built'] <= 2001) | (df['Year Built'] >= 2011)) & (df['Number of Cabins'] <= 2)].head()\n",
        "\n",
        "\n",
        "\n",
        "\n",
        "# Categorical Conditions\n",
        "\n",
        "# KEY: If an entry is missing, it will not be filtered and is thus removed in the output dataset - same as with SAS / SQL\n",
        "# KEY: To include missing values --> include this specific condition via an OR statement: (df['Column'].isna()) = saying you want to keep these values!\n",
        "\n",
        "mask4 = ((df['Year Built'] <= 2001) | (df['Year Built'] >= 2011)) & ((df['Number of Cabins'] <= 2) | (df['Number of Cabins'].isna()))\n",
        "df[mask4].head()\n",
        "df[mask4].describe()\n",
        "\n",
        "mask5 = ((df['Year Built'] <= 2001) | (df['Year Built'] >= 2011)) & (df['Number of Cabins'] <= 2) & (df['Fuel Type'] == 'Diesel')\n",
        "df[mask5].head()\n",
        "df[mask5].describe(include='all')\n",
        "\n",
        "# Using Lists as filter conditions - .isin OR ~ .isin = NOT IN\n",
        "\n",
        "# .isin (IN LIST)\n",
        "\n",
        "list_cat_to_keep=['Diesel','Electric']\n",
        "\n",
        "mask5 = ((df['Year Built'] <= 2001) | (df['Year Built'] >= 2011)) & (df['Number of Cabins'] <= 2) & (df['Fuel Type'].isin(list_cat_to_keep))\n",
        "df[mask5].head(2)\n",
        "# df[mask5].describe(include='all')\n",
        "\n",
        "df[mask5]['Fuel Type'].unique() # shows unique entries\n",
        "\n",
        "\n",
        "\n",
        "# ~ .isin (NOT IN LIST)\n",
        "\n",
        "list_cat_to_keep=['Diesel','Electric']\n",
        "\n",
        "mask6 = ((df['Year Built'] <= 2001) | (df['Year Built'] >= 2011)) & (df['Number of Cabins'] <= 2) & (~df['Fuel Type'].isin(list_cat_to_keep))\n",
        "df[mask6].head(2)\n",
        "df[mask6]['Fuel Type'].unique() # shows unique entries\n",
        "\n"
      ],
      "metadata": {
        "id": "z35w_2gmWxTv",
        "outputId": "46b3310c-62eb-433e-b548-14c45224d756",
        "colab": {
          "base_uri": "https://localhost:8080/"
        }
      },
      "execution_count": 60,
      "outputs": [
        {
          "output_type": "stream",
          "name": "stderr",
          "text": [
            "/usr/local/lib/python3.7/dist-packages/ipykernel_launcher.py:22: FutureWarning: Dropping of nuisance columns in DataFrame reductions (with 'numeric_only=None') is deprecated; in a future version this will raise TypeError.  Select only valid columns before calling the reduction.\n"
          ]
        },
        {
          "output_type": "execute_result",
          "data": {
            "text/plain": [
              "array(['Unleaded', nan, 'Hybrid', 'Gas'], dtype=object)"
            ]
          },
          "metadata": {},
          "execution_count": 60
        }
      ]
    },
    {
      "cell_type": "code",
      "source": [
        "# Value_Counts - to count the occurrence of legitimate entries within a specified column or N columns (WITHOUT NULL VALUES!)\n",
        "\n",
        "# Basic Summary\n",
        "\n",
        "df['Fuel Type'].value_counts()\n",
        "\n",
        "# Including NULL Values (= NaN)\n",
        "\n",
        "df['Fuel Type'].value_counts(dropna=False)\n",
        "\n",
        "# Normalized i.e. % share\n",
        "\n",
        "df['Fuel Type'].value_counts(normalize=True, dropna=False)\n",
        "df['Fuel Type'].value_counts(normalize=True, dropna=False)*100 # to get percent in abs.\n",
        "\n",
        "# Reformat output\n",
        "\n",
        "np.round(df['Fuel Type'].value_counts(normalize=True, dropna=False)*100, decimals=2) # set decimal count with NP function!"
      ],
      "metadata": {
        "id": "31t_rCsLgDxn",
        "outputId": "056d74ea-8151-4ff1-a16f-9a09d6edfec3",
        "colab": {
          "base_uri": "https://localhost:8080/"
        }
      },
      "execution_count": 66,
      "outputs": [
        {
          "output_type": "execute_result",
          "data": {
            "text/plain": [
              "Diesel      46.00\n",
              "Unleaded    30.83\n",
              "NaN         22.45\n",
              "Electric     0.53\n",
              "Gas          0.16\n",
              "Hybrid       0.02\n",
              "Propane      0.01\n",
              "Name: Fuel Type, dtype: float64"
            ]
          },
          "metadata": {},
          "execution_count": 66
        }
      ]
    },
    {
      "cell_type": "code",
      "source": [
        "# Data Type Transformation\n",
        "\n",
        "# Update existing column by a PD function (could also create an entirely new column though)\n",
        "\n",
        "df['Advertisement Date'].head() # read format from the dataset first\n",
        "df['Advertisement Date'] = pd.to_datetime(df['Advertisement Date'], format='%Y-%m-%d' ) # replicate the present dataset dateformat exactly as it is so that Python can understand it before re-formatting\n",
        "\n",
        "# KEY RESOURCE: https://docs.python.org/3/library/datetime.html#strftime-and-strptime-behavior\n",
        "\n",
        "# New Column:\n",
        "\n",
        "# df['Advertisement Date 2'] = pd.to_datetime(df['Advertisement Date'], format='%Y-%m-%d' )\n",
        "\n",
        "df.info() # to check formatting has worked\n",
        "\n"
      ],
      "metadata": {
        "id": "Z0lJ7PNeg7iA",
        "outputId": "3601388e-c16d-418a-b2a4-afb5cfbe7c7c",
        "colab": {
          "base_uri": "https://localhost:8080/"
        }
      },
      "execution_count": 71,
      "outputs": [
        {
          "output_type": "stream",
          "name": "stdout",
          "text": [
            "<class 'pandas.core.frame.DataFrame'>\n",
            "RangeIndex: 10844 entries, 0 to 10843\n",
            "Data columns (total 38 columns):\n",
            " #   Column                       Non-Null Count  Dtype         \n",
            "---  ------                       --------------  -----         \n",
            " 0   Price                        10844 non-null  object        \n",
            " 1   Category                     10844 non-null  object        \n",
            " 2   Boat Type                    10844 non-null  object        \n",
            " 3   Manufacturer                 9393 non-null   object        \n",
            " 4   Model                        10841 non-null  object        \n",
            " 5   Boat name                    1370 non-null   object        \n",
            " 6   Type                         10839 non-null  object        \n",
            " 7   Year Built                   10252 non-null  float64       \n",
            " 8   Condition                    3540 non-null   object        \n",
            " 9   Length                       10834 non-null  object        \n",
            " 10  Width                        10779 non-null  object        \n",
            " 11  Depth                        7575 non-null   object        \n",
            " 12  Displacement                 5298 non-null   object        \n",
            " 13  CE Design Category           828 non-null    object        \n",
            " 14  Cert Number of People        3773 non-null   float64       \n",
            " 15  Number of Cabins             6807 non-null   float64       \n",
            " 16  Number of beds               6726 non-null   float64       \n",
            " 17  Hull Color                   3472 non-null   object        \n",
            " 18  Number of Toilets            2257 non-null   float64       \n",
            " 19  Number of Bathrooms          484 non-null    float64       \n",
            " 20  Number of Showers            2040 non-null   float64       \n",
            " 21  Material                     8902 non-null   object        \n",
            " 22  Fresh Water Cap              2222 non-null   object        \n",
            " 23  Holding Tank                 861 non-null    object        \n",
            " 24  Propulsion                   3433 non-null   object        \n",
            " 25  Engine                       10007 non-null  object        \n",
            " 26  Engine Performance           8455 non-null   object        \n",
            " 27  Fuel Capacity                7137 non-null   object        \n",
            " 28  Fuel Type                    8409 non-null   object        \n",
            " 29  Engine Hours                 5396 non-null   object        \n",
            " 30  Max Speed                    930 non-null    object        \n",
            " 31  Cruising Speed               567 non-null    object        \n",
            " 32  Location                     10800 non-null  object        \n",
            " 33  Number of views last 7 days  10457 non-null  object        \n",
            " 34  Comments                     7437 non-null   object        \n",
            " 35  Additional Comments          2553 non-null   object        \n",
            " 36  Equipment                    6481 non-null   object        \n",
            " 37  Advertisement Date           10844 non-null  datetime64[ns]\n",
            "dtypes: datetime64[ns](1), float64(7), object(30)\n",
            "memory usage: 3.1+ MB\n"
          ]
        }
      ]
    },
    {
      "cell_type": "code",
      "source": [
        "# Data Cleaning\n",
        "\n",
        "# Assorted 'dirty' Columns\n",
        "\n",
        "df['Length'].unique()\n",
        "df['Engine Hours'].unique()\n",
        "df['Fresh Water Cap'].unique()\n",
        "\n",
        "# Cleaning column 'Length' by updating it with a function - .str.rstrip = strips away a specific substring FROM THE RIGHT!\n",
        "# There's also a .str.lstrip to cut leading substrings that are uniformally available in all rows\n",
        "\n",
        "df['Length'] = df['Length'].str.rstrip(' m')\n",
        "df['Length'].unique()\n",
        "\n",
        "# Issue: no more string values, but still an object! Must tell Python that it can interpret it as a decimal\n",
        "# Using pd.to_numeric function\n",
        "\n",
        "df['Length'] = pd.to_numeric(df['Length'])\n"
      ],
      "metadata": {
        "id": "1X3PT2GLjwJQ",
        "outputId": "5db1e8c2-7c07-4dc3-d06a-d27bf6457112",
        "colab": {
          "base_uri": "https://localhost:8080/",
          "height": 396
        }
      },
      "execution_count": 80,
      "outputs": [
        {
          "output_type": "error",
          "ename": "AttributeError",
          "evalue": "ignored",
          "traceback": [
            "\u001b[0;31m---------------------------------------------------------------------------\u001b[0m",
            "\u001b[0;31mAttributeError\u001b[0m                            Traceback (most recent call last)",
            "\u001b[0;32m<ipython-input-80-04c55903bfe1>\u001b[0m in \u001b[0;36m<module>\u001b[0;34m()\u001b[0m\n\u001b[1;32m     10\u001b[0m \u001b[0;31m# There's also a .str.lstrip to cut leading substrings that are uniformally available in all rows\u001b[0m\u001b[0;34m\u001b[0m\u001b[0;34m\u001b[0m\u001b[0;34m\u001b[0m\u001b[0m\n\u001b[1;32m     11\u001b[0m \u001b[0;34m\u001b[0m\u001b[0m\n\u001b[0;32m---> 12\u001b[0;31m \u001b[0mdf\u001b[0m\u001b[0;34m[\u001b[0m\u001b[0;34m'Length'\u001b[0m\u001b[0;34m]\u001b[0m \u001b[0;34m=\u001b[0m \u001b[0mdf\u001b[0m\u001b[0;34m[\u001b[0m\u001b[0;34m'Length'\u001b[0m\u001b[0;34m]\u001b[0m\u001b[0;34m.\u001b[0m\u001b[0mstr\u001b[0m\u001b[0;34m.\u001b[0m\u001b[0mrstrip\u001b[0m\u001b[0;34m(\u001b[0m\u001b[0;34m' m'\u001b[0m\u001b[0;34m)\u001b[0m\u001b[0;34m\u001b[0m\u001b[0;34m\u001b[0m\u001b[0m\n\u001b[0m\u001b[1;32m     13\u001b[0m \u001b[0mdf\u001b[0m\u001b[0;34m[\u001b[0m\u001b[0;34m'Length'\u001b[0m\u001b[0;34m]\u001b[0m\u001b[0;34m.\u001b[0m\u001b[0munique\u001b[0m\u001b[0;34m(\u001b[0m\u001b[0;34m)\u001b[0m\u001b[0;34m\u001b[0m\u001b[0;34m\u001b[0m\u001b[0m\n\u001b[1;32m     14\u001b[0m \u001b[0;34m\u001b[0m\u001b[0m\n",
            "\u001b[0;32m/usr/local/lib/python3.7/dist-packages/pandas/core/generic.py\u001b[0m in \u001b[0;36m__getattr__\u001b[0;34m(self, name)\u001b[0m\n\u001b[1;32m   5485\u001b[0m         ):\n\u001b[1;32m   5486\u001b[0m             \u001b[0;32mreturn\u001b[0m \u001b[0mself\u001b[0m\u001b[0;34m[\u001b[0m\u001b[0mname\u001b[0m\u001b[0;34m]\u001b[0m\u001b[0;34m\u001b[0m\u001b[0;34m\u001b[0m\u001b[0m\n\u001b[0;32m-> 5487\u001b[0;31m         \u001b[0;32mreturn\u001b[0m \u001b[0mobject\u001b[0m\u001b[0;34m.\u001b[0m\u001b[0m__getattribute__\u001b[0m\u001b[0;34m(\u001b[0m\u001b[0mself\u001b[0m\u001b[0;34m,\u001b[0m \u001b[0mname\u001b[0m\u001b[0;34m)\u001b[0m\u001b[0;34m\u001b[0m\u001b[0;34m\u001b[0m\u001b[0m\n\u001b[0m\u001b[1;32m   5488\u001b[0m \u001b[0;34m\u001b[0m\u001b[0m\n\u001b[1;32m   5489\u001b[0m     \u001b[0;32mdef\u001b[0m \u001b[0m__setattr__\u001b[0m\u001b[0;34m(\u001b[0m\u001b[0mself\u001b[0m\u001b[0;34m,\u001b[0m \u001b[0mname\u001b[0m\u001b[0;34m:\u001b[0m \u001b[0mstr\u001b[0m\u001b[0;34m,\u001b[0m \u001b[0mvalue\u001b[0m\u001b[0;34m)\u001b[0m \u001b[0;34m->\u001b[0m \u001b[0;32mNone\u001b[0m\u001b[0;34m:\u001b[0m\u001b[0;34m\u001b[0m\u001b[0;34m\u001b[0m\u001b[0m\n",
            "\u001b[0;32m/usr/local/lib/python3.7/dist-packages/pandas/core/accessor.py\u001b[0m in \u001b[0;36m__get__\u001b[0;34m(self, obj, cls)\u001b[0m\n\u001b[1;32m    179\u001b[0m             \u001b[0;31m# we're accessing the attribute of the class, i.e., Dataset.geo\u001b[0m\u001b[0;34m\u001b[0m\u001b[0;34m\u001b[0m\u001b[0;34m\u001b[0m\u001b[0m\n\u001b[1;32m    180\u001b[0m             \u001b[0;32mreturn\u001b[0m \u001b[0mself\u001b[0m\u001b[0;34m.\u001b[0m\u001b[0m_accessor\u001b[0m\u001b[0;34m\u001b[0m\u001b[0;34m\u001b[0m\u001b[0m\n\u001b[0;32m--> 181\u001b[0;31m         \u001b[0maccessor_obj\u001b[0m \u001b[0;34m=\u001b[0m \u001b[0mself\u001b[0m\u001b[0;34m.\u001b[0m\u001b[0m_accessor\u001b[0m\u001b[0;34m(\u001b[0m\u001b[0mobj\u001b[0m\u001b[0;34m)\u001b[0m\u001b[0;34m\u001b[0m\u001b[0;34m\u001b[0m\u001b[0m\n\u001b[0m\u001b[1;32m    182\u001b[0m         \u001b[0;31m# Replace the property with the accessor object. Inspired by:\u001b[0m\u001b[0;34m\u001b[0m\u001b[0;34m\u001b[0m\u001b[0;34m\u001b[0m\u001b[0m\n\u001b[1;32m    183\u001b[0m         \u001b[0;31m# https://www.pydanny.com/cached-property.html\u001b[0m\u001b[0;34m\u001b[0m\u001b[0;34m\u001b[0m\u001b[0;34m\u001b[0m\u001b[0m\n",
            "\u001b[0;32m/usr/local/lib/python3.7/dist-packages/pandas/core/strings/accessor.py\u001b[0m in \u001b[0;36m__init__\u001b[0;34m(self, data)\u001b[0m\n\u001b[1;32m    166\u001b[0m         \u001b[0;32mfrom\u001b[0m \u001b[0mpandas\u001b[0m\u001b[0;34m.\u001b[0m\u001b[0mcore\u001b[0m\u001b[0;34m.\u001b[0m\u001b[0marrays\u001b[0m\u001b[0;34m.\u001b[0m\u001b[0mstring_\u001b[0m \u001b[0;32mimport\u001b[0m \u001b[0mStringDtype\u001b[0m\u001b[0;34m\u001b[0m\u001b[0;34m\u001b[0m\u001b[0m\n\u001b[1;32m    167\u001b[0m \u001b[0;34m\u001b[0m\u001b[0m\n\u001b[0;32m--> 168\u001b[0;31m         \u001b[0mself\u001b[0m\u001b[0;34m.\u001b[0m\u001b[0m_inferred_dtype\u001b[0m \u001b[0;34m=\u001b[0m \u001b[0mself\u001b[0m\u001b[0;34m.\u001b[0m\u001b[0m_validate\u001b[0m\u001b[0;34m(\u001b[0m\u001b[0mdata\u001b[0m\u001b[0;34m)\u001b[0m\u001b[0;34m\u001b[0m\u001b[0;34m\u001b[0m\u001b[0m\n\u001b[0m\u001b[1;32m    169\u001b[0m         \u001b[0mself\u001b[0m\u001b[0;34m.\u001b[0m\u001b[0m_is_categorical\u001b[0m \u001b[0;34m=\u001b[0m \u001b[0mis_categorical_dtype\u001b[0m\u001b[0;34m(\u001b[0m\u001b[0mdata\u001b[0m\u001b[0;34m.\u001b[0m\u001b[0mdtype\u001b[0m\u001b[0;34m)\u001b[0m\u001b[0;34m\u001b[0m\u001b[0;34m\u001b[0m\u001b[0m\n\u001b[1;32m    170\u001b[0m         \u001b[0mself\u001b[0m\u001b[0;34m.\u001b[0m\u001b[0m_is_string\u001b[0m \u001b[0;34m=\u001b[0m \u001b[0misinstance\u001b[0m\u001b[0;34m(\u001b[0m\u001b[0mdata\u001b[0m\u001b[0;34m.\u001b[0m\u001b[0mdtype\u001b[0m\u001b[0;34m,\u001b[0m \u001b[0mStringDtype\u001b[0m\u001b[0;34m)\u001b[0m\u001b[0;34m\u001b[0m\u001b[0;34m\u001b[0m\u001b[0m\n",
            "\u001b[0;32m/usr/local/lib/python3.7/dist-packages/pandas/core/strings/accessor.py\u001b[0m in \u001b[0;36m_validate\u001b[0;34m(data)\u001b[0m\n\u001b[1;32m    223\u001b[0m \u001b[0;34m\u001b[0m\u001b[0m\n\u001b[1;32m    224\u001b[0m         \u001b[0;32mif\u001b[0m \u001b[0minferred_dtype\u001b[0m \u001b[0;32mnot\u001b[0m \u001b[0;32min\u001b[0m \u001b[0mallowed_types\u001b[0m\u001b[0;34m:\u001b[0m\u001b[0;34m\u001b[0m\u001b[0;34m\u001b[0m\u001b[0m\n\u001b[0;32m--> 225\u001b[0;31m             \u001b[0;32mraise\u001b[0m \u001b[0mAttributeError\u001b[0m\u001b[0;34m(\u001b[0m\u001b[0;34m\"Can only use .str accessor with string values!\"\u001b[0m\u001b[0;34m)\u001b[0m\u001b[0;34m\u001b[0m\u001b[0;34m\u001b[0m\u001b[0m\n\u001b[0m\u001b[1;32m    226\u001b[0m         \u001b[0;32mreturn\u001b[0m \u001b[0minferred_dtype\u001b[0m\u001b[0;34m\u001b[0m\u001b[0;34m\u001b[0m\u001b[0m\n\u001b[1;32m    227\u001b[0m \u001b[0;34m\u001b[0m\u001b[0m\n",
            "\u001b[0;31mAttributeError\u001b[0m: Can only use .str accessor with string values!"
          ]
        }
      ]
    },
    {
      "cell_type": "code",
      "source": [
        "df['Length'].unique()\n",
        "df['Length'].dtypes\n",
        "df['Length'].head(10)"
      ],
      "metadata": {
        "id": "Y-zyugu_lR-w",
        "outputId": "0eb73921-3e08-43eb-d900-feef090e42fd",
        "colab": {
          "base_uri": "https://localhost:8080/"
        }
      },
      "execution_count": 82,
      "outputs": [
        {
          "output_type": "execute_result",
          "data": {
            "text/plain": [
              "0    4.00\n",
              "1    4.00\n",
              "2    3.69\n",
              "3    3.00\n",
              "4    6.30\n",
              "5    3.55\n",
              "6    4.03\n",
              "7    6.20\n",
              "8    3.00\n",
              "9    3.64\n",
              "Name: Length, dtype: float64"
            ]
          },
          "metadata": {},
          "execution_count": 82
        }
      ]
    },
    {
      "cell_type": "code",
      "source": [
        "# Cleaning of the other columms by use of a function\n",
        "\n",
        "df['Engine Hours'].unique()\n",
        "df['Fresh Water Cap'].unique()\n",
        "\n",
        "# declare a function start\n",
        "\n",
        "def format_series(series, char):\n",
        "  \n",
        "  '''\n",
        "  Description\n",
        "  '''\n",
        "  new_series = series.str.rstrip(char)\n",
        "  new_series = pd.to_numeric(new_series)\n",
        "\n",
        "  return new_series"
      ],
      "metadata": {
        "id": "xR8n0UkTlnoc"
      },
      "execution_count": 83,
      "outputs": []
    },
    {
      "cell_type": "code",
      "source": [
        "df[['Width','Depth']].head()\n",
        "\n",
        "# Use a loop to adjust multiple columns at once\n",
        "\n",
        "for col in ['Width','Depth']:\n",
        "  df[col] = format_series(df[col], ' m')\n"
      ],
      "metadata": {
        "id": "Wm-dzwLtmi6k",
        "outputId": "ea1081f3-0dfd-49e8-acca-427e90a17169",
        "colab": {
          "base_uri": "https://localhost:8080/",
          "height": 396
        }
      },
      "execution_count": 86,
      "outputs": [
        {
          "output_type": "error",
          "ename": "AttributeError",
          "evalue": "ignored",
          "traceback": [
            "\u001b[0;31m---------------------------------------------------------------------------\u001b[0m",
            "\u001b[0;31mAttributeError\u001b[0m                            Traceback (most recent call last)",
            "\u001b[0;32m<ipython-input-86-9e74db954ea4>\u001b[0m in \u001b[0;36m<module>\u001b[0;34m()\u001b[0m\n\u001b[1;32m      4\u001b[0m \u001b[0;34m\u001b[0m\u001b[0m\n\u001b[1;32m      5\u001b[0m \u001b[0;32mfor\u001b[0m \u001b[0mcol\u001b[0m \u001b[0;32min\u001b[0m \u001b[0;34m[\u001b[0m\u001b[0;34m'Width'\u001b[0m\u001b[0;34m,\u001b[0m\u001b[0;34m'Depth'\u001b[0m\u001b[0;34m]\u001b[0m\u001b[0;34m:\u001b[0m\u001b[0;34m\u001b[0m\u001b[0;34m\u001b[0m\u001b[0m\n\u001b[0;32m----> 6\u001b[0;31m   \u001b[0mdf\u001b[0m\u001b[0;34m[\u001b[0m\u001b[0mcol\u001b[0m\u001b[0;34m]\u001b[0m \u001b[0;34m=\u001b[0m \u001b[0mformat_series\u001b[0m\u001b[0;34m(\u001b[0m\u001b[0mdf\u001b[0m\u001b[0;34m[\u001b[0m\u001b[0mcol\u001b[0m\u001b[0;34m]\u001b[0m\u001b[0;34m,\u001b[0m \u001b[0;34m' m'\u001b[0m\u001b[0;34m)\u001b[0m\u001b[0;34m\u001b[0m\u001b[0;34m\u001b[0m\u001b[0m\n\u001b[0m\u001b[1;32m      7\u001b[0m \u001b[0;34m\u001b[0m\u001b[0m\n\u001b[1;32m      8\u001b[0m \u001b[0mdf\u001b[0m\u001b[0;34m[\u001b[0m\u001b[0;34m[\u001b[0m\u001b[0;34m'Width'\u001b[0m\u001b[0;34m,\u001b[0m\u001b[0;34m'Depth'\u001b[0m\u001b[0;34m]\u001b[0m\u001b[0;34m]\u001b[0m\u001b[0;34m.\u001b[0m\u001b[0mhead\u001b[0m\u001b[0;34m(\u001b[0m\u001b[0;34m)\u001b[0m\u001b[0;34m\u001b[0m\u001b[0;34m\u001b[0m\u001b[0m\n",
            "\u001b[0;32m<ipython-input-83-b4a1507aa20a>\u001b[0m in \u001b[0;36mformat_series\u001b[0;34m(series, char)\u001b[0m\n\u001b[1;32m     11\u001b[0m   \u001b[0mDescription\u001b[0m\u001b[0;34m\u001b[0m\u001b[0;34m\u001b[0m\u001b[0m\n\u001b[1;32m     12\u001b[0m   '''\n\u001b[0;32m---> 13\u001b[0;31m   \u001b[0mnew_series\u001b[0m \u001b[0;34m=\u001b[0m \u001b[0mseries\u001b[0m\u001b[0;34m.\u001b[0m\u001b[0mstr\u001b[0m\u001b[0;34m.\u001b[0m\u001b[0mrstrip\u001b[0m\u001b[0;34m(\u001b[0m\u001b[0mchar\u001b[0m\u001b[0;34m)\u001b[0m\u001b[0;34m\u001b[0m\u001b[0;34m\u001b[0m\u001b[0m\n\u001b[0m\u001b[1;32m     14\u001b[0m   \u001b[0mnew_series\u001b[0m \u001b[0;34m=\u001b[0m \u001b[0mpd\u001b[0m\u001b[0;34m.\u001b[0m\u001b[0mto_numeric\u001b[0m\u001b[0;34m(\u001b[0m\u001b[0mnew_series\u001b[0m\u001b[0;34m)\u001b[0m\u001b[0;34m\u001b[0m\u001b[0;34m\u001b[0m\u001b[0m\n\u001b[1;32m     15\u001b[0m \u001b[0;34m\u001b[0m\u001b[0m\n",
            "\u001b[0;32m/usr/local/lib/python3.7/dist-packages/pandas/core/generic.py\u001b[0m in \u001b[0;36m__getattr__\u001b[0;34m(self, name)\u001b[0m\n\u001b[1;32m   5485\u001b[0m         ):\n\u001b[1;32m   5486\u001b[0m             \u001b[0;32mreturn\u001b[0m \u001b[0mself\u001b[0m\u001b[0;34m[\u001b[0m\u001b[0mname\u001b[0m\u001b[0;34m]\u001b[0m\u001b[0;34m\u001b[0m\u001b[0;34m\u001b[0m\u001b[0m\n\u001b[0;32m-> 5487\u001b[0;31m         \u001b[0;32mreturn\u001b[0m \u001b[0mobject\u001b[0m\u001b[0;34m.\u001b[0m\u001b[0m__getattribute__\u001b[0m\u001b[0;34m(\u001b[0m\u001b[0mself\u001b[0m\u001b[0;34m,\u001b[0m \u001b[0mname\u001b[0m\u001b[0;34m)\u001b[0m\u001b[0;34m\u001b[0m\u001b[0;34m\u001b[0m\u001b[0m\n\u001b[0m\u001b[1;32m   5488\u001b[0m \u001b[0;34m\u001b[0m\u001b[0m\n\u001b[1;32m   5489\u001b[0m     \u001b[0;32mdef\u001b[0m \u001b[0m__setattr__\u001b[0m\u001b[0;34m(\u001b[0m\u001b[0mself\u001b[0m\u001b[0;34m,\u001b[0m \u001b[0mname\u001b[0m\u001b[0;34m:\u001b[0m \u001b[0mstr\u001b[0m\u001b[0;34m,\u001b[0m \u001b[0mvalue\u001b[0m\u001b[0;34m)\u001b[0m \u001b[0;34m->\u001b[0m \u001b[0;32mNone\u001b[0m\u001b[0;34m:\u001b[0m\u001b[0;34m\u001b[0m\u001b[0;34m\u001b[0m\u001b[0m\n",
            "\u001b[0;32m/usr/local/lib/python3.7/dist-packages/pandas/core/accessor.py\u001b[0m in \u001b[0;36m__get__\u001b[0;34m(self, obj, cls)\u001b[0m\n\u001b[1;32m    179\u001b[0m             \u001b[0;31m# we're accessing the attribute of the class, i.e., Dataset.geo\u001b[0m\u001b[0;34m\u001b[0m\u001b[0;34m\u001b[0m\u001b[0;34m\u001b[0m\u001b[0m\n\u001b[1;32m    180\u001b[0m             \u001b[0;32mreturn\u001b[0m \u001b[0mself\u001b[0m\u001b[0;34m.\u001b[0m\u001b[0m_accessor\u001b[0m\u001b[0;34m\u001b[0m\u001b[0;34m\u001b[0m\u001b[0m\n\u001b[0;32m--> 181\u001b[0;31m         \u001b[0maccessor_obj\u001b[0m \u001b[0;34m=\u001b[0m \u001b[0mself\u001b[0m\u001b[0;34m.\u001b[0m\u001b[0m_accessor\u001b[0m\u001b[0;34m(\u001b[0m\u001b[0mobj\u001b[0m\u001b[0;34m)\u001b[0m\u001b[0;34m\u001b[0m\u001b[0;34m\u001b[0m\u001b[0m\n\u001b[0m\u001b[1;32m    182\u001b[0m         \u001b[0;31m# Replace the property with the accessor object. Inspired by:\u001b[0m\u001b[0;34m\u001b[0m\u001b[0;34m\u001b[0m\u001b[0;34m\u001b[0m\u001b[0m\n\u001b[1;32m    183\u001b[0m         \u001b[0;31m# https://www.pydanny.com/cached-property.html\u001b[0m\u001b[0;34m\u001b[0m\u001b[0;34m\u001b[0m\u001b[0;34m\u001b[0m\u001b[0m\n",
            "\u001b[0;32m/usr/local/lib/python3.7/dist-packages/pandas/core/strings/accessor.py\u001b[0m in \u001b[0;36m__init__\u001b[0;34m(self, data)\u001b[0m\n\u001b[1;32m    166\u001b[0m         \u001b[0;32mfrom\u001b[0m \u001b[0mpandas\u001b[0m\u001b[0;34m.\u001b[0m\u001b[0mcore\u001b[0m\u001b[0;34m.\u001b[0m\u001b[0marrays\u001b[0m\u001b[0;34m.\u001b[0m\u001b[0mstring_\u001b[0m \u001b[0;32mimport\u001b[0m \u001b[0mStringDtype\u001b[0m\u001b[0;34m\u001b[0m\u001b[0;34m\u001b[0m\u001b[0m\n\u001b[1;32m    167\u001b[0m \u001b[0;34m\u001b[0m\u001b[0m\n\u001b[0;32m--> 168\u001b[0;31m         \u001b[0mself\u001b[0m\u001b[0;34m.\u001b[0m\u001b[0m_inferred_dtype\u001b[0m \u001b[0;34m=\u001b[0m \u001b[0mself\u001b[0m\u001b[0;34m.\u001b[0m\u001b[0m_validate\u001b[0m\u001b[0;34m(\u001b[0m\u001b[0mdata\u001b[0m\u001b[0;34m)\u001b[0m\u001b[0;34m\u001b[0m\u001b[0;34m\u001b[0m\u001b[0m\n\u001b[0m\u001b[1;32m    169\u001b[0m         \u001b[0mself\u001b[0m\u001b[0;34m.\u001b[0m\u001b[0m_is_categorical\u001b[0m \u001b[0;34m=\u001b[0m \u001b[0mis_categorical_dtype\u001b[0m\u001b[0;34m(\u001b[0m\u001b[0mdata\u001b[0m\u001b[0;34m.\u001b[0m\u001b[0mdtype\u001b[0m\u001b[0;34m)\u001b[0m\u001b[0;34m\u001b[0m\u001b[0;34m\u001b[0m\u001b[0m\n\u001b[1;32m    170\u001b[0m         \u001b[0mself\u001b[0m\u001b[0;34m.\u001b[0m\u001b[0m_is_string\u001b[0m \u001b[0;34m=\u001b[0m \u001b[0misinstance\u001b[0m\u001b[0;34m(\u001b[0m\u001b[0mdata\u001b[0m\u001b[0;34m.\u001b[0m\u001b[0mdtype\u001b[0m\u001b[0;34m,\u001b[0m \u001b[0mStringDtype\u001b[0m\u001b[0;34m)\u001b[0m\u001b[0;34m\u001b[0m\u001b[0;34m\u001b[0m\u001b[0m\n",
            "\u001b[0;32m/usr/local/lib/python3.7/dist-packages/pandas/core/strings/accessor.py\u001b[0m in \u001b[0;36m_validate\u001b[0;34m(data)\u001b[0m\n\u001b[1;32m    223\u001b[0m \u001b[0;34m\u001b[0m\u001b[0m\n\u001b[1;32m    224\u001b[0m         \u001b[0;32mif\u001b[0m \u001b[0minferred_dtype\u001b[0m \u001b[0;32mnot\u001b[0m \u001b[0;32min\u001b[0m \u001b[0mallowed_types\u001b[0m\u001b[0;34m:\u001b[0m\u001b[0;34m\u001b[0m\u001b[0;34m\u001b[0m\u001b[0m\n\u001b[0;32m--> 225\u001b[0;31m             \u001b[0;32mraise\u001b[0m \u001b[0mAttributeError\u001b[0m\u001b[0;34m(\u001b[0m\u001b[0;34m\"Can only use .str accessor with string values!\"\u001b[0m\u001b[0;34m)\u001b[0m\u001b[0;34m\u001b[0m\u001b[0;34m\u001b[0m\u001b[0m\n\u001b[0m\u001b[1;32m    226\u001b[0m         \u001b[0;32mreturn\u001b[0m \u001b[0minferred_dtype\u001b[0m\u001b[0;34m\u001b[0m\u001b[0;34m\u001b[0m\u001b[0m\n\u001b[1;32m    227\u001b[0m \u001b[0;34m\u001b[0m\u001b[0m\n",
            "\u001b[0;31mAttributeError\u001b[0m: Can only use .str accessor with string values!"
          ]
        }
      ]
    },
    {
      "cell_type": "code",
      "source": [
        "df[['Width','Depth']].head() "
      ],
      "metadata": {
        "id": "EtNk52MJnfQx",
        "outputId": "c75f9e39-55a6-4d17-ca42-b997d9a9be95",
        "colab": {
          "base_uri": "https://localhost:8080/",
          "height": 206
        }
      },
      "execution_count": 87,
      "outputs": [
        {
          "output_type": "execute_result",
          "data": {
            "text/plain": [
              "   Width  Depth\n",
              "0   1.90    NaN\n",
              "1   1.50    NaN\n",
              "2   1.42   0.25\n",
              "3   1.00    NaN\n",
              "4   2.50   0.75"
            ],
            "text/html": [
              "\n",
              "  <div id=\"df-d0683874-8cb4-4519-940d-2339d15113b0\">\n",
              "    <div class=\"colab-df-container\">\n",
              "      <div>\n",
              "<style scoped>\n",
              "    .dataframe tbody tr th:only-of-type {\n",
              "        vertical-align: middle;\n",
              "    }\n",
              "\n",
              "    .dataframe tbody tr th {\n",
              "        vertical-align: top;\n",
              "    }\n",
              "\n",
              "    .dataframe thead th {\n",
              "        text-align: right;\n",
              "    }\n",
              "</style>\n",
              "<table border=\"1\" class=\"dataframe\">\n",
              "  <thead>\n",
              "    <tr style=\"text-align: right;\">\n",
              "      <th></th>\n",
              "      <th>Width</th>\n",
              "      <th>Depth</th>\n",
              "    </tr>\n",
              "  </thead>\n",
              "  <tbody>\n",
              "    <tr>\n",
              "      <th>0</th>\n",
              "      <td>1.90</td>\n",
              "      <td>NaN</td>\n",
              "    </tr>\n",
              "    <tr>\n",
              "      <th>1</th>\n",
              "      <td>1.50</td>\n",
              "      <td>NaN</td>\n",
              "    </tr>\n",
              "    <tr>\n",
              "      <th>2</th>\n",
              "      <td>1.42</td>\n",
              "      <td>0.25</td>\n",
              "    </tr>\n",
              "    <tr>\n",
              "      <th>3</th>\n",
              "      <td>1.00</td>\n",
              "      <td>NaN</td>\n",
              "    </tr>\n",
              "    <tr>\n",
              "      <th>4</th>\n",
              "      <td>2.50</td>\n",
              "      <td>0.75</td>\n",
              "    </tr>\n",
              "  </tbody>\n",
              "</table>\n",
              "</div>\n",
              "      <button class=\"colab-df-convert\" onclick=\"convertToInteractive('df-d0683874-8cb4-4519-940d-2339d15113b0')\"\n",
              "              title=\"Convert this dataframe to an interactive table.\"\n",
              "              style=\"display:none;\">\n",
              "        \n",
              "  <svg xmlns=\"http://www.w3.org/2000/svg\" height=\"24px\"viewBox=\"0 0 24 24\"\n",
              "       width=\"24px\">\n",
              "    <path d=\"M0 0h24v24H0V0z\" fill=\"none\"/>\n",
              "    <path d=\"M18.56 5.44l.94 2.06.94-2.06 2.06-.94-2.06-.94-.94-2.06-.94 2.06-2.06.94zm-11 1L8.5 8.5l.94-2.06 2.06-.94-2.06-.94L8.5 2.5l-.94 2.06-2.06.94zm10 10l.94 2.06.94-2.06 2.06-.94-2.06-.94-.94-2.06-.94 2.06-2.06.94z\"/><path d=\"M17.41 7.96l-1.37-1.37c-.4-.4-.92-.59-1.43-.59-.52 0-1.04.2-1.43.59L10.3 9.45l-7.72 7.72c-.78.78-.78 2.05 0 2.83L4 21.41c.39.39.9.59 1.41.59.51 0 1.02-.2 1.41-.59l7.78-7.78 2.81-2.81c.8-.78.8-2.07 0-2.86zM5.41 20L4 18.59l7.72-7.72 1.47 1.35L5.41 20z\"/>\n",
              "  </svg>\n",
              "      </button>\n",
              "      \n",
              "  <style>\n",
              "    .colab-df-container {\n",
              "      display:flex;\n",
              "      flex-wrap:wrap;\n",
              "      gap: 12px;\n",
              "    }\n",
              "\n",
              "    .colab-df-convert {\n",
              "      background-color: #E8F0FE;\n",
              "      border: none;\n",
              "      border-radius: 50%;\n",
              "      cursor: pointer;\n",
              "      display: none;\n",
              "      fill: #1967D2;\n",
              "      height: 32px;\n",
              "      padding: 0 0 0 0;\n",
              "      width: 32px;\n",
              "    }\n",
              "\n",
              "    .colab-df-convert:hover {\n",
              "      background-color: #E2EBFA;\n",
              "      box-shadow: 0px 1px 2px rgba(60, 64, 67, 0.3), 0px 1px 3px 1px rgba(60, 64, 67, 0.15);\n",
              "      fill: #174EA6;\n",
              "    }\n",
              "\n",
              "    [theme=dark] .colab-df-convert {\n",
              "      background-color: #3B4455;\n",
              "      fill: #D2E3FC;\n",
              "    }\n",
              "\n",
              "    [theme=dark] .colab-df-convert:hover {\n",
              "      background-color: #434B5C;\n",
              "      box-shadow: 0px 1px 3px 1px rgba(0, 0, 0, 0.15);\n",
              "      filter: drop-shadow(0px 1px 2px rgba(0, 0, 0, 0.3));\n",
              "      fill: #FFFFFF;\n",
              "    }\n",
              "  </style>\n",
              "\n",
              "      <script>\n",
              "        const buttonEl =\n",
              "          document.querySelector('#df-d0683874-8cb4-4519-940d-2339d15113b0 button.colab-df-convert');\n",
              "        buttonEl.style.display =\n",
              "          google.colab.kernel.accessAllowed ? 'block' : 'none';\n",
              "\n",
              "        async function convertToInteractive(key) {\n",
              "          const element = document.querySelector('#df-d0683874-8cb4-4519-940d-2339d15113b0');\n",
              "          const dataTable =\n",
              "            await google.colab.kernel.invokeFunction('convertToInteractive',\n",
              "                                                     [key], {});\n",
              "          if (!dataTable) return;\n",
              "\n",
              "          const docLinkHtml = 'Like what you see? Visit the ' +\n",
              "            '<a target=\"_blank\" href=https://colab.research.google.com/notebooks/data_table.ipynb>data table notebook</a>'\n",
              "            + ' to learn more about interactive tables.';\n",
              "          element.innerHTML = '';\n",
              "          dataTable['output_type'] = 'display_data';\n",
              "          await google.colab.output.renderOutput(dataTable, element);\n",
              "          const docLink = document.createElement('div');\n",
              "          docLink.innerHTML = docLinkHtml;\n",
              "          element.appendChild(docLink);\n",
              "        }\n",
              "      </script>\n",
              "    </div>\n",
              "  </div>\n",
              "  "
            ]
          },
          "metadata": {},
          "execution_count": 87
        }
      ]
    },
    {
      "cell_type": "code",
      "source": [
        "# Do the same for 'Engine Hours' \n",
        "# And for 'Fresh Water Cap', 'Holding Tank', 'Fuel Capacity'\n",
        "\n",
        "df['Engine Hours'] = format_series(df['Engine Hours'], ' h')\n",
        "\n",
        "for col in ['Fresh Water Cap', 'Holding Tank', 'Fuel Capacity']:\n",
        "  df[col] = format_series(df[col], ' l')"
      ],
      "metadata": {
        "id": "cUDjU5LRngyS"
      },
      "execution_count": 88,
      "outputs": []
    },
    {
      "cell_type": "code",
      "source": [
        "df[['Engine Hours','Fresh Water Cap', 'Holding Tank', 'Fuel Capacity']].head(10) "
      ],
      "metadata": {
        "id": "V2PLRulmn9h5",
        "outputId": "7f832d1b-bb77-469d-ad7e-c9a0a90d546b",
        "colab": {
          "base_uri": "https://localhost:8080/",
          "height": 363
        }
      },
      "execution_count": 90,
      "outputs": [
        {
          "output_type": "execute_result",
          "data": {
            "text/plain": [
              "   Engine Hours  Fresh Water Cap  Holding Tank  Fuel Capacity\n",
              "0           NaN              NaN           NaN            NaN\n",
              "1           NaN              NaN           NaN            NaN\n",
              "2           NaN              NaN           NaN            NaN\n",
              "3           NaN              NaN           NaN            NaN\n",
              "4         500.0              NaN           NaN           50.0\n",
              "5           NaN              NaN           NaN            NaN\n",
              "6           NaN              NaN           NaN            NaN\n",
              "7           NaN              NaN           NaN           40.0\n",
              "8           NaN              NaN           NaN            NaN\n",
              "9           NaN              NaN           NaN            NaN"
            ],
            "text/html": [
              "\n",
              "  <div id=\"df-1c856798-9d6d-4844-9629-c0be68d79bf5\">\n",
              "    <div class=\"colab-df-container\">\n",
              "      <div>\n",
              "<style scoped>\n",
              "    .dataframe tbody tr th:only-of-type {\n",
              "        vertical-align: middle;\n",
              "    }\n",
              "\n",
              "    .dataframe tbody tr th {\n",
              "        vertical-align: top;\n",
              "    }\n",
              "\n",
              "    .dataframe thead th {\n",
              "        text-align: right;\n",
              "    }\n",
              "</style>\n",
              "<table border=\"1\" class=\"dataframe\">\n",
              "  <thead>\n",
              "    <tr style=\"text-align: right;\">\n",
              "      <th></th>\n",
              "      <th>Engine Hours</th>\n",
              "      <th>Fresh Water Cap</th>\n",
              "      <th>Holding Tank</th>\n",
              "      <th>Fuel Capacity</th>\n",
              "    </tr>\n",
              "  </thead>\n",
              "  <tbody>\n",
              "    <tr>\n",
              "      <th>0</th>\n",
              "      <td>NaN</td>\n",
              "      <td>NaN</td>\n",
              "      <td>NaN</td>\n",
              "      <td>NaN</td>\n",
              "    </tr>\n",
              "    <tr>\n",
              "      <th>1</th>\n",
              "      <td>NaN</td>\n",
              "      <td>NaN</td>\n",
              "      <td>NaN</td>\n",
              "      <td>NaN</td>\n",
              "    </tr>\n",
              "    <tr>\n",
              "      <th>2</th>\n",
              "      <td>NaN</td>\n",
              "      <td>NaN</td>\n",
              "      <td>NaN</td>\n",
              "      <td>NaN</td>\n",
              "    </tr>\n",
              "    <tr>\n",
              "      <th>3</th>\n",
              "      <td>NaN</td>\n",
              "      <td>NaN</td>\n",
              "      <td>NaN</td>\n",
              "      <td>NaN</td>\n",
              "    </tr>\n",
              "    <tr>\n",
              "      <th>4</th>\n",
              "      <td>500.0</td>\n",
              "      <td>NaN</td>\n",
              "      <td>NaN</td>\n",
              "      <td>50.0</td>\n",
              "    </tr>\n",
              "    <tr>\n",
              "      <th>5</th>\n",
              "      <td>NaN</td>\n",
              "      <td>NaN</td>\n",
              "      <td>NaN</td>\n",
              "      <td>NaN</td>\n",
              "    </tr>\n",
              "    <tr>\n",
              "      <th>6</th>\n",
              "      <td>NaN</td>\n",
              "      <td>NaN</td>\n",
              "      <td>NaN</td>\n",
              "      <td>NaN</td>\n",
              "    </tr>\n",
              "    <tr>\n",
              "      <th>7</th>\n",
              "      <td>NaN</td>\n",
              "      <td>NaN</td>\n",
              "      <td>NaN</td>\n",
              "      <td>40.0</td>\n",
              "    </tr>\n",
              "    <tr>\n",
              "      <th>8</th>\n",
              "      <td>NaN</td>\n",
              "      <td>NaN</td>\n",
              "      <td>NaN</td>\n",
              "      <td>NaN</td>\n",
              "    </tr>\n",
              "    <tr>\n",
              "      <th>9</th>\n",
              "      <td>NaN</td>\n",
              "      <td>NaN</td>\n",
              "      <td>NaN</td>\n",
              "      <td>NaN</td>\n",
              "    </tr>\n",
              "  </tbody>\n",
              "</table>\n",
              "</div>\n",
              "      <button class=\"colab-df-convert\" onclick=\"convertToInteractive('df-1c856798-9d6d-4844-9629-c0be68d79bf5')\"\n",
              "              title=\"Convert this dataframe to an interactive table.\"\n",
              "              style=\"display:none;\">\n",
              "        \n",
              "  <svg xmlns=\"http://www.w3.org/2000/svg\" height=\"24px\"viewBox=\"0 0 24 24\"\n",
              "       width=\"24px\">\n",
              "    <path d=\"M0 0h24v24H0V0z\" fill=\"none\"/>\n",
              "    <path d=\"M18.56 5.44l.94 2.06.94-2.06 2.06-.94-2.06-.94-.94-2.06-.94 2.06-2.06.94zm-11 1L8.5 8.5l.94-2.06 2.06-.94-2.06-.94L8.5 2.5l-.94 2.06-2.06.94zm10 10l.94 2.06.94-2.06 2.06-.94-2.06-.94-.94-2.06-.94 2.06-2.06.94z\"/><path d=\"M17.41 7.96l-1.37-1.37c-.4-.4-.92-.59-1.43-.59-.52 0-1.04.2-1.43.59L10.3 9.45l-7.72 7.72c-.78.78-.78 2.05 0 2.83L4 21.41c.39.39.9.59 1.41.59.51 0 1.02-.2 1.41-.59l7.78-7.78 2.81-2.81c.8-.78.8-2.07 0-2.86zM5.41 20L4 18.59l7.72-7.72 1.47 1.35L5.41 20z\"/>\n",
              "  </svg>\n",
              "      </button>\n",
              "      \n",
              "  <style>\n",
              "    .colab-df-container {\n",
              "      display:flex;\n",
              "      flex-wrap:wrap;\n",
              "      gap: 12px;\n",
              "    }\n",
              "\n",
              "    .colab-df-convert {\n",
              "      background-color: #E8F0FE;\n",
              "      border: none;\n",
              "      border-radius: 50%;\n",
              "      cursor: pointer;\n",
              "      display: none;\n",
              "      fill: #1967D2;\n",
              "      height: 32px;\n",
              "      padding: 0 0 0 0;\n",
              "      width: 32px;\n",
              "    }\n",
              "\n",
              "    .colab-df-convert:hover {\n",
              "      background-color: #E2EBFA;\n",
              "      box-shadow: 0px 1px 2px rgba(60, 64, 67, 0.3), 0px 1px 3px 1px rgba(60, 64, 67, 0.15);\n",
              "      fill: #174EA6;\n",
              "    }\n",
              "\n",
              "    [theme=dark] .colab-df-convert {\n",
              "      background-color: #3B4455;\n",
              "      fill: #D2E3FC;\n",
              "    }\n",
              "\n",
              "    [theme=dark] .colab-df-convert:hover {\n",
              "      background-color: #434B5C;\n",
              "      box-shadow: 0px 1px 3px 1px rgba(0, 0, 0, 0.15);\n",
              "      filter: drop-shadow(0px 1px 2px rgba(0, 0, 0, 0.3));\n",
              "      fill: #FFFFFF;\n",
              "    }\n",
              "  </style>\n",
              "\n",
              "      <script>\n",
              "        const buttonEl =\n",
              "          document.querySelector('#df-1c856798-9d6d-4844-9629-c0be68d79bf5 button.colab-df-convert');\n",
              "        buttonEl.style.display =\n",
              "          google.colab.kernel.accessAllowed ? 'block' : 'none';\n",
              "\n",
              "        async function convertToInteractive(key) {\n",
              "          const element = document.querySelector('#df-1c856798-9d6d-4844-9629-c0be68d79bf5');\n",
              "          const dataTable =\n",
              "            await google.colab.kernel.invokeFunction('convertToInteractive',\n",
              "                                                     [key], {});\n",
              "          if (!dataTable) return;\n",
              "\n",
              "          const docLinkHtml = 'Like what you see? Visit the ' +\n",
              "            '<a target=\"_blank\" href=https://colab.research.google.com/notebooks/data_table.ipynb>data table notebook</a>'\n",
              "            + ' to learn more about interactive tables.';\n",
              "          element.innerHTML = '';\n",
              "          dataTable['output_type'] = 'display_data';\n",
              "          await google.colab.output.renderOutput(dataTable, element);\n",
              "          const docLink = document.createElement('div');\n",
              "          docLink.innerHTML = docLinkHtml;\n",
              "          element.appendChild(docLink);\n",
              "        }\n",
              "      </script>\n",
              "    </div>\n",
              "  </div>\n",
              "  "
            ]
          },
          "metadata": {},
          "execution_count": 90
        }
      ]
    },
    {
      "cell_type": "code",
      "source": [
        "# Renaming Columns\n",
        "\n",
        "# .rename(columns={current column name : new column name})\n",
        "\n",
        "df = df.rename(columns={'Length':'Length (m)', 'Width' : 'Width (m)', 'Depth' : 'Depth (m)'})"
      ],
      "metadata": {
        "id": "YaJ61RADoEW7"
      },
      "execution_count": 92,
      "outputs": []
    },
    {
      "cell_type": "code",
      "source": [
        "df.dtypes\n",
        "\n",
        "# Filtering of Constants, i.e. identical values across all rows\n",
        "\n",
        "col_object_l = df.select_dtypes(include='object').columns # Stock les colonnes\n",
        "for col in col_object_l:\n",
        "    print(f\"Column {col} has {df[col].nunique()} categories\\n\") # .nunique = number of unique values/categories\n",
        "\n",
        "    # Result = Column 'Category' has only 1 value/categories --> can be dropped"
      ],
      "metadata": {
        "id": "SsTYvA6hogHP",
        "outputId": "9376b319-7d0d-4287-fe3d-0cf831f720f1",
        "colab": {
          "base_uri": "https://localhost:8080/"
        }
      },
      "execution_count": 94,
      "outputs": [
        {
          "output_type": "stream",
          "name": "stdout",
          "text": [
            "Column Price has 3283 categories\n",
            "\n",
            "Column Category has 1 categories\n",
            "\n",
            "Column Boat Type has 135 categories\n",
            "\n",
            "Column Manufacturer has 932 categories\n",
            "\n",
            "Column Model has 7458 categories\n",
            "\n",
            "Column Boat name has 1258 categories\n",
            "\n",
            "Column Type has 36 categories\n",
            "\n",
            "Column Condition has 10 categories\n",
            "\n",
            "Column Displacement has 1380 categories\n",
            "\n",
            "Column CE Design Category has 4 categories\n",
            "\n",
            "Column Hull Color has 377 categories\n",
            "\n",
            "Column Material has 11 categories\n",
            "\n",
            "Column Propulsion has 8 categories\n",
            "\n",
            "Column Engine has 4752 categories\n",
            "\n",
            "Column Engine Performance has 843 categories\n",
            "\n",
            "Column Fuel Type has 6 categories\n",
            "\n",
            "Column Max Speed has 99 categories\n",
            "\n",
            "Column Cruising Speed has 57 categories\n",
            "\n",
            "Column Location has 3177 categories\n",
            "\n",
            "Column Number of views last 7 days has 680 categories\n",
            "\n",
            "Column Comments has 6631 categories\n",
            "\n",
            "Column Additional Comments has 2410 categories\n",
            "\n",
            "Column Equipment has 5301 categories\n",
            "\n"
          ]
        }
      ]
    },
    {
      "cell_type": "code",
      "source": [
        "# Delete Columns\n",
        "\n",
        "list_col_to_delete_part1 = ['Category','Displacement','Number of views last 7 days','Additional Comments']\n",
        "\n",
        "# Also, if there are columns that are non-understandable, it is recommendable to delete them\n",
        "# Rationale: These columns are NON-DESCRIPTIVE of the price of the boat itself --> we delete it in order to have better data for feeding it into our predictive model\n",
        "# These variables are not correlated to price at all, potentially\n",
        "# Assumes the price can perfectly be predicted with all the remaining variables that will remain after cleaning\n",
        "\n",
        "df = df.drop(columns = list_col_to_delete_part1, inplace = True)\n",
        "\n",
        "\n"
      ],
      "metadata": {
        "id": "SjqTqH_cpG9l"
      },
      "execution_count": 95,
      "outputs": []
    },
    {
      "cell_type": "code",
      "source": [
        ""
      ],
      "metadata": {
        "id": "rnhbnc1jSNyg"
      },
      "execution_count": null,
      "outputs": []
    }
  ]
}